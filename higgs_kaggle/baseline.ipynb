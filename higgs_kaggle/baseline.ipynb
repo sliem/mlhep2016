{
 "cells": [
  {
   "cell_type": "markdown",
   "metadata": {},
   "source": [
    "## About\n",
    "\n",
    "In this notebook we prepare a simple solution for the [kaggle challenge on higgs.](https://inclass.kaggle.com/c/mlhep-2016-higgs-detection)"
   ]
  },
  {
   "cell_type": "code",
   "execution_count": 1,
   "metadata": {
    "collapsed": false
   },
   "outputs": [],
   "source": [
    "%matplotlib inline"
   ]
  },
  {
   "cell_type": "code",
   "execution_count": 22,
   "metadata": {
    "collapsed": false
   },
   "outputs": [],
   "source": [
    "import matplotlib.pyplot as plt\n",
    "\n",
    "import pandas\n",
    "import numpy as np\n",
    "\n",
    "from sklearn.cross_validation import train_test_split\n",
    "from sklearn.metrics import roc_auc_score\n",
    "from sklearn.cross_validation import cross_val_score\n",
    "from sklearn.neighbors import KNeighborsClassifier\n",
    "from sklearn.ensemble import BaggingClassifier\n"
   ]
  },
  {
   "cell_type": "markdown",
   "metadata": {},
   "source": [
    "### Download data"
   ]
  },
  {
   "cell_type": "code",
   "execution_count": 3,
   "metadata": {
    "collapsed": false
   },
   "outputs": [
    {
     "name": "stdout",
     "output_type": "stream",
     "text": [
      "wget: /root/miniconda/envs/rep_py2/lib/libcrypto.so.1.0.0: no version information available (required by wget)\n",
      "wget: /root/miniconda/envs/rep_py2/lib/libssl.so.1.0.0: no version information available (required by wget)\n",
      "--2016-06-22 07:50:19--  https://2016.mlhep.yandex.net/data/higgs/public_train_10000.root\n",
      "Resolving 2016.mlhep.yandex.net (2016.mlhep.yandex.net)... 2a02:6b8::1:208\n",
      "Connecting to 2016.mlhep.yandex.net (2016.mlhep.yandex.net)|2a02:6b8::1:208|:443... connected.\n",
      "HTTP request sent, awaiting response... 200 OK\n",
      "Length: 932820 (911K) [application/octet-stream]\n",
      "Saving to: 'public_train_10000.root'\n",
      "\n",
      "100%[======================================>] 932,820     4.06MB/s   in 0.2s   \n",
      "\n",
      "2016-06-22 07:50:20 (4.06 MB/s) - 'public_train_10000.root' saved [932820/932820]\n",
      "\n"
     ]
    }
   ],
   "source": [
    "!cd datasets; wget -O public_train_10000.root -nc --no-check-certificate https://2016.mlhep.yandex.net/data/higgs/public_train_10000.root"
   ]
  },
  {
   "cell_type": "code",
   "execution_count": 4,
   "metadata": {
    "collapsed": false
   },
   "outputs": [
    {
     "name": "stdout",
     "output_type": "stream",
     "text": [
      "wget: /root/miniconda/envs/rep_py2/lib/libcrypto.so.1.0.0: no version information available (required by wget)\n",
      "wget: /root/miniconda/envs/rep_py2/lib/libssl.so.1.0.0: no version information available (required by wget)\n",
      "--2016-06-22 07:50:37--  https://2016.mlhep.yandex.net/data/higgs/public_train_100000.root\n",
      "Resolving 2016.mlhep.yandex.net (2016.mlhep.yandex.net)... 2a02:6b8::1:208\n",
      "Connecting to 2016.mlhep.yandex.net (2016.mlhep.yandex.net)|2a02:6b8::1:208|:443... connected.\n",
      "HTTP request sent, awaiting response... 200 OK\n",
      "Length: 9245432 (8.8M) [application/octet-stream]\n",
      "Saving to: 'public_train_100000.root'\n",
      "\n",
      "100%[======================================>] 9,245,432   9.45MB/s   in 0.9s   \n",
      "\n",
      "2016-06-22 07:50:38 (9.45 MB/s) - 'public_train_100000.root' saved [9245432/9245432]\n",
      "\n"
     ]
    }
   ],
   "source": [
    "# you can download training sample with 100000 available events\n",
    "# uncomment the below row\n",
    "!cd datasets; wget -O public_train_100000.root -nc --no-check-certificate https://2016.mlhep.yandex.net/data/higgs/public_train_100000.root"
   ]
  },
  {
   "cell_type": "code",
   "execution_count": 5,
   "metadata": {
    "collapsed": false
   },
   "outputs": [
    {
     "name": "stdout",
     "output_type": "stream",
     "text": [
      "wget: /root/miniconda/envs/rep_py2/lib/libcrypto.so.1.0.0: no version information available (required by wget)\n",
      "wget: /root/miniconda/envs/rep_py2/lib/libssl.so.1.0.0: no version information available (required by wget)\n",
      "--2016-06-22 07:50:41--  https://2016.mlhep.yandex.net/data/higgs/public_test.root\n",
      "Resolving 2016.mlhep.yandex.net (2016.mlhep.yandex.net)... 2a02:6b8::1:208\n",
      "Connecting to 2016.mlhep.yandex.net (2016.mlhep.yandex.net)|2a02:6b8::1:208|:443... connected.\n",
      "HTTP request sent, awaiting response... 200 OK\n",
      "Length: 91931408 (88M) [application/octet-stream]\n",
      "Saving to: 'public_test.root'\n",
      "\n",
      "100%[======================================>] 91,931,408  25.4MB/s   in 3.9s   \n",
      "\n",
      "2016-06-22 07:50:45 (22.5 MB/s) - 'public_test.root' saved [91931408/91931408]\n",
      "\n"
     ]
    }
   ],
   "source": [
    "!cd datasets; wget -O public_test.root -nc --no-check-certificate https://2016.mlhep.yandex.net/data/higgs/public_test.root"
   ]
  },
  {
   "cell_type": "markdown",
   "metadata": {},
   "source": [
    "### Read the smallest part of training file and test file"
   ]
  },
  {
   "cell_type": "code",
   "execution_count": 118,
   "metadata": {
    "collapsed": false
   },
   "outputs": [
    {
     "name": "stdout",
     "output_type": "stream",
     "text": [
      "70\n"
     ]
    },
    {
     "data": {
      "text/plain": [
       "['jet3_pt',\n",
       " 'jet3_eta',\n",
       " 'm_jjxm_jlv',\n",
       " 'm_jjxm_wbb',\n",
       " 'm_wwbbxm_bb',\n",
       " 'jet2_pt',\n",
       " 'mem_phi',\n",
       " 'jet1_pt',\n",
       " 'm_jjxm_bb',\n",
       " 'jet4_phi',\n",
       " 'm_jj-m_bb',\n",
       " 'm_jj-m_lv',\n",
       " 'm_wwbbxm_wbb',\n",
       " 'm_wwbb-m_wbb',\n",
       " 'jet1_phi',\n",
       " 'jet2_eta',\n",
       " 'jet3_phi',\n",
       " 'm_jlv-m_bb',\n",
       " 'm_jjjxm_wwbb',\n",
       " 'm_wbbxm_lv',\n",
       " 'jet3_btag',\n",
       " 'm_jlv',\n",
       " 'm_jjxm_lv',\n",
       " 'm_bbxm_wbb',\n",
       " 'm_jj-m_jjj',\n",
       " 'm_jlvxm_wbb',\n",
       " 'm_lv',\n",
       " 'm_jlv-m_lv',\n",
       " 'm_wbb',\n",
       " 'jet4_pt',\n",
       " 'm_bbxm_lv',\n",
       " 'jet4_btag',\n",
       " 'm_jjj',\n",
       " 'jet1_btag',\n",
       " 'm_jj',\n",
       " 'jet1_eta',\n",
       " 'm_jj-m_jlv',\n",
       " 'm_jj-m_wbb',\n",
       " 'm_jjj-m_wwbb',\n",
       " 'm_wwbb',\n",
       " 'jet2_phi',\n",
       " 'lepton_phi',\n",
       " 'm_wwbb-m_lv',\n",
       " 'm_jlvxm_bb',\n",
       " 'm_jjjxm_jlv',\n",
       " 'm_bb',\n",
       " 'm_jlvxm_wwbb',\n",
       " 'm_bb-m_wbb',\n",
       " 'm_wbb-m_lv',\n",
       " 'm_jlvxm_lv',\n",
       " 'jet4_eta',\n",
       " 'jet2_btag',\n",
       " 'm_bb-m_lv',\n",
       " 'm_jjj-m_lv',\n",
       " 'lepton_pt',\n",
       " 'm_jjxm_wwbb',\n",
       " 'mem_pt',\n",
       " 'lepton_eta',\n",
       " 'm_jjjxm_lv',\n",
       " 'm_jjjxm_bb',\n",
       " 'm_jlv-m_wwbb',\n",
       " 'm_wwbb-m_bb',\n",
       " 'm_jjjxm_wbb',\n",
       " 'm_wwbbxm_lv',\n",
       " 'm_jjxm_jjj',\n",
       " 'm_jlv-m_wbb',\n",
       " 'm_jj-m_wwbb',\n",
       " 'm_jjj-m_bb',\n",
       " 'm_jjj-m_jlv',\n",
       " 'm_jjj-m_wbb']"
      ]
     },
     "execution_count": 118,
     "metadata": {},
     "output_type": "execute_result"
    }
   ],
   "source": [
    "import root_numpy\n",
    "data = pandas.DataFrame(root_numpy.root2array('datasets/public_train_10000.root'))\n",
    "test = pandas.DataFrame(root_numpy.root2array('datasets/public_test.root'))\n",
    "\n",
    "high_level_features = ['m_jj', 'm_jjj', 'm_jlv', 'm_wwbb', 'm_bb', 'm_wbb', 'm_lv']\n",
    "low_level_features = list(set(data.columns) - {'event_id', 'target'} - set(high_level_features))\n",
    "import itertools\n",
    "\n",
    "new_features = []\n",
    "for a, b in itertools.combinations(high_level_features, 2):\n",
    "    name = '%s-%s' % (a, b)\n",
    "    data[name] = data[a] - data[b]\n",
    "    new_features.append(name)\n",
    "    name = '%sx%s' % (a, b)\n",
    "    data[name] = data[a]*data[b]\n",
    "    new_features.append(name)\n",
    "\n",
    "features = list(set(data.columns) - {'event_id', 'target'})\n",
    "print(len(features))\n",
    "features"
   ]
  },
  {
   "cell_type": "markdown",
   "metadata": {},
   "source": [
    "### Plot histograms for each feature"
   ]
  },
  {
   "cell_type": "code",
   "execution_count": null,
   "metadata": {
    "collapsed": false
   },
   "outputs": [],
   "source": [
    "hist_params = {'normed': True, 'bins': 60, 'alpha': 0.4}\n",
    "# create the figure\n",
    "plt.figure(figsize=(16, 45))\n",
    "for n, feature in enumerate(low_level_features):\n",
    "    # add sub plot on our figure\n",
    "    plt.subplot(16, 3, n+1)\n",
    "    # define range for histograms by cutting 1% of data from both ends\n",
    "    min_value, max_value = np.percentile(data[feature], [1, 99])\n",
    "    plt.hist(data.ix[data.target.values == 0, feature].values, range=(min_value, max_value), \n",
    "             label='class 0', **hist_params)\n",
    "    plt.hist(data.ix[data.target.values == 1, feature].values, range=(min_value, max_value), \n",
    "             label='class 1', **hist_params)\n",
    "    plt.legend(loc='best')\n",
    "    plt.title(feature)"
   ]
  },
  {
   "cell_type": "markdown",
   "metadata": {},
   "source": [
    "## Simple knn from sklearn"
   ]
  },
  {
   "cell_type": "code",
   "execution_count": 9,
   "metadata": {
    "collapsed": false
   },
   "outputs": [
    {
     "name": "stdout",
     "output_type": "stream",
     "text": [
      "0.721489324587 0.000947318341457\n"
     ]
    }
   ],
   "source": [
    "knn_cv = cross_val_score(KNeighborsClassifier(n_neighbors=6),\n",
    "                data[high_level_features],\n",
    "                data[\"target\"],\n",
    "                cv=4, n_jobs=4, scoring=\"roc_auc\")\n",
    "print knn_cv.mean(), knn_cv.std()"
   ]
  },
  {
   "cell_type": "markdown",
   "metadata": {},
   "source": [
    "## RandomForrest"
   ]
  },
  {
   "cell_type": "code",
   "execution_count": 94,
   "metadata": {
    "collapsed": false
   },
   "outputs": [
    {
     "data": {
      "image/png": "[encoded data removed]",
      "text/plain": [
       "<matplotlib.figure.Figure at 0x7fa387d4d3d0>"
      ]
     },
     "metadata": {},
     "output_type": "display_data"
    }
   ],
   "source": [
    "from sklearn.ensemble import RandomForestClassifier\n",
    "from sklearn.learning_curve import validation_curve\n",
    "#rf_cv = cross_val_score(RandomForestClassifier(n_jobs=4, n_estimators=50),\n",
    "#                        data[high_level_features],\n",
    "#                        data[\"target\"], scoring='roc_auc', cv=4)\n",
    "#print rf_cv.mean(), rf_cv.std()\n",
    "param_range = [100, 500,1000]\n",
    "param_name = 'n_estimators'\n",
    "train_scores, test_scores = validation_curve(RandomForestClassifier(n_jobs=4),\n",
    "                                             data[features],\n",
    "                                             data[\"target\"], scoring='roc_auc', cv=4,\n",
    "                                             param_name=param_name,\n",
    "                                             param_range=param_range)\n",
    "test_scores_mean = np.mean(test_scores, axis=1)\n",
    "test_scores_std = np.std(test_scores, axis=1)\n",
    "\n",
    "plt.title(\"Validation Curve with RandomForest\")\n",
    "plt.xlabel(param_name)\n",
    "plt.ylabel(\"Score\")\n",
    "plt.ylim(0.6, 0.9)\n",
    "plt.plot(param_range, test_scores_mean, label=\"Cross-validation score\",\n",
    "             color=\"g\")\n",
    "plt.fill_between(param_range, test_scores_mean - test_scores_std,\n",
    "                 test_scores_mean + test_scores_std, alpha=0.2, color=\"g\")\n",
    "plt.legend(loc=\"best\")\n",
    "plt.show()\n"
   ]
  },
  {
   "cell_type": "code",
   "execution_count": null,
   "metadata": {
    "collapsed": true
   },
   "outputs": [],
   "source": []
  },
  {
   "cell_type": "code",
   "execution_count": 117,
   "metadata": {
    "collapsed": false
   },
   "outputs": [
    {
     "name": "stdout",
     "output_type": "stream",
     "text": [
      "0.794755719742 0.00122407218618\n"
     ]
    }
   ],
   "source": [
    "from sklearn.pipeline import make_pipeline\n",
    "from sklearn.decomposition import PCA, TruncatedSVD\n",
    "#clf = make_pipeline(, RandomForestClassifier(n_jobs=4, n_estimators=100))\n",
    "clf = RandomForestClassifier(n_jobs=4, n_estimators=1000)\n",
    "rf_cv = cross_val_score(clf,\n",
    "                        #data[high_level_features],\n",
    "                        #data[list(set(features) - set(new_features))],\n",
    "                        data[features],\n",
    "                        data[\"target\"], scoring='roc_auc', cv=4)\n",
    "print rf_cv.mean(), rf_cv.std()"
   ]
  },
  {
   "cell_type": "markdown",
   "metadata": {},
   "source": [
    "0.767"
   ]
  },
  {
   "cell_type": "markdown",
   "metadata": {},
   "source": [
    "## Prepare submission to kaggle"
   ]
  },
  {
   "cell_type": "code",
   "execution_count": 17,
   "metadata": {
    "collapsed": false
   },
   "outputs": [],
   "source": [
    "# predict test sample\n",
    "kaggle_proba = knn.predict_proba(test[high_level_features])[:, 1]\n",
    "kaggle_ids = test.event_id"
   ]
  },
  {
   "cell_type": "code",
   "execution_count": 18,
   "metadata": {
    "collapsed": false
   },
   "outputs": [
    {
     "data": {
      "text/html": [
       "<a href='datasets/baseline.csv' target='_blank'>datasets/baseline.csv</a><br>"
      ],
      "text/plain": [
       "/Users/antares/Yandex.Disk.localized/projects/MLHEP/mlhep2016/higgs_kaggle/datasets/baseline.csv"
      ]
     },
     "execution_count": 18,
     "metadata": {},
     "output_type": "execute_result"
    }
   ],
   "source": [
    "from IPython.display import FileLink\n",
    "def create_solution(ids, proba, filename='baseline.csv'):\n",
    "    \"\"\"saves predictions to file and provides a link for downloading \"\"\"\n",
    "    pandas.DataFrame({'event_id': ids, 'prediction': proba}).to_csv('datasets/{}'.format(filename), index=False)\n",
    "    return FileLink('datasets/{}'.format(filename))\n",
    "    \n",
    "create_solution(kaggle_ids, kaggle_proba)"
   ]
  }
 ],
 "metadata": {
  "kernelspec": {
   "display_name": "Python 2",
   "language": "python",
   "name": "python2"
  },
  "language_info": {
   "codemirror_mode": {
    "name": "ipython",
    "version": 2
   },
   "file_extension": ".py",
   "mimetype": "text/x-python",
   "name": "python",
   "nbconvert_exporter": "python",
   "pygments_lexer": "ipython2",
   "version": "2.7.11"
  }
 },
 "nbformat": 4,
 "nbformat_minor": 0
}
