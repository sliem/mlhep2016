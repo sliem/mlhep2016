{
 "cells": [
  {
   "cell_type": "markdown",
   "metadata": {},
   "source": [
    "### Mind the backend\n",
    "This seminar was meant for taito-GPU cluster and __not the Everware__ nodes you used throughout the course.\n",
    "\n",
    "- One can still run it on Everware node after changing data paths, but it will probably take longer without a GPU"
   ]
  },
  {
   "cell_type": "code",
   "execution_count": 1,
   "metadata": {
    "collapsed": false
   },
   "outputs": [
    {
     "name": "stdout",
     "output_type": "stream",
     "text": [
      "random GPU roll:  3\n"
     ]
    }
   ],
   "source": [
    "import random\n",
    "gpuid = random.randint(0,3)\n",
    "import os\n",
    "print \"random GPU roll: \",gpuid\n",
    "#os.environ[\"THEANO_FLAGS\"]=\"device=gpu%i\"%gpuid\n",
    "os.environ[\"THEANO_FLAGS\"]=\"device=gpu3\""
   ]
  },
  {
   "cell_type": "code",
   "execution_count": 3,
   "metadata": {
    "collapsed": false
   },
   "outputs": [],
   "source": [
    "import matplotlib.pyplot as plt\n",
    "%matplotlib inline\n",
    "import numpy as np\n",
    "import theano\n",
    "import theano.tensor as T\n",
    "import lasagne"
   ]
  },
  {
   "cell_type": "markdown",
   "metadata": {},
   "source": [
    "# Load the challenge data\n",
    "* Currently we are using raw data features with no preprocessing in hope that NN figures that out\n",
    "* One may try any feature engineering he wants"
   ]
  },
  {
   "cell_type": "code",
   "execution_count": 63,
   "metadata": {
    "collapsed": false
   },
   "outputs": [],
   "source": [
    "import pandas as pd\n",
    "import itertools\n",
    "data = pd.DataFrame.from_csv(\"/homeappl/home/austyuzh/data/train.csv\",)\n",
    "test = pd.DataFrame.from_csv(\"/homeappl/home/austyuzh/data/public_test.csv\",)\n",
    "\n",
    "high_level_features = ['m_jj', 'm_jjj', 'm_jlv', 'm_wwbb', 'm_bb', 'm_wbb', 'm_lv']\n",
    "\n",
    "pts = ['jet4_pt', 'jet3_pt', 'jet2_pt', 'jet1_pt', 'lepton_pt', 'mem_pt']\n",
    "etas = ['jet4_eta', 'jet3_eta', 'jet2_eta', 'jet1_eta', 'lepton_eta']\n",
    "phis = ['jet4_phi', 'jet3_phi', 'jet2_phi', 'jet1_phi', 'lepton_phi', 'mem_phi']\n",
    "\n",
    "# pt order jets\n",
    "jet_pt = pts[:4]\n",
    "jet_eta = etas[:4]\n",
    "jet_phis = phis[:4]\n",
    "\n",
    "idx = np.argsort(np.array(data[jet_pt]))\n",
    "colidx = np.arange(data[jet_pt].shape[0])[:,np.newaxis]\n",
    "data[jet_pt] = np.array(data[jet_pt])[colidx, idx]\n",
    "data[jet_eta] = np.array(data[jet_eta])[colidx, idx]\n",
    "data[jet_phis] = np.array(data[jet_phis])[colidx, idx]\n",
    "\n",
    "idx = np.argsort(np.array(test[jet_pt]))\n",
    "colidx = np.arange(test[jet_pt].shape[0])[:,np.newaxis]\n",
    "test[jet_pt] = np.array(test[jet_pt])[colidx, idx]\n",
    "test[jet_eta] = np.array(test[jet_eta])[colidx, idx]\n",
    "test[jet_phis] = np.array(test[jet_phis])[colidx, idx]\n",
    "\n",
    "name = 'pt_tot'\n",
    "data[name] = data[pts].sum(axis=1)\n",
    "test[name] = test[pts].sum(axis=1)\n",
    "\n",
    "name = 'm_tot'\n",
    "data[name] = data[high_level_features].sum(axis=1)\n",
    "test[name] = test[high_level_features].sum(axis=1)\n",
    "\n",
    "for a, b in itertools.combinations(np.arange(5), 2):\n",
    "    name = 'dR(%s, %s)' % (etas[a][:-4], etas[b][:-4])\n",
    "    data[name] = np.sqrt((data[etas[a]] - data[etas[b]])**2 + (data[phis[a]] - data[phis[a]])**2)\n",
    "    test[name] = np.sqrt((test[etas[a]] - test[etas[b]])**2 + (test[phis[a]] - test[phis[a]])**2)\n",
    "\n",
    "for df in [test, data]:\n",
    "    df['m_bb/m_wbb'] = df['m_bb']/df['m_wbb']\n",
    "    df['m_wwbb/m_wbb'] = df['m_wwbb']/df['m_wbb']\n",
    "    df['m_bb/m_lv'] = df['m_bb']/df['m_lv']\n",
    "    df['m_bb/m_tot'] = df['m_bb']/df['m_tot']\n",
    "    \n",
    "n_features = df.shape[1]-1"
   ]
  },
  {
   "cell_type": "code",
   "execution_count": null,
   "metadata": {
    "collapsed": true
   },
   "outputs": [],
   "source": [
    "# rotate etas \n",
    "np.random.random(shape=(data.shape[0], len(etas)))"
   ]
  },
  {
   "cell_type": "code",
   "execution_count": 64,
   "metadata": {
    "collapsed": false
   },
   "outputs": [
    {
     "name": "stdout",
     "output_type": "stream",
     "text": [
      "(10000000, 45)\n"
     ]
    }
   ],
   "source": [
    "print(data.shape)\n",
    "y = data['target'].values==1\n",
    "X = data[data.columns[1:]].values.astype(theano.config.floatX)"
   ]
  },
  {
   "cell_type": "code",
   "execution_count": 7,
   "metadata": {
    "collapsed": false
   },
   "outputs": [],
   "source": [
    "from sklearn.cross_validation import train_test_split\n",
    "#X_train,X_val,y_train,y_val = train_test_split(X,y,test_size=0.2,random_state=1337)"
   ]
  },
  {
   "cell_type": "markdown",
   "metadata": {
    "collapsed": true
   },
   "source": [
    "# NN architecture\n",
    " * We take a simple NN with __3 hidden layers__:\n",
    "     * Layers must contain 500 hidden units each\n",
    "     * Layers must use __tanh__ nonlinearity\n",
    " * structure can be farther optimized, so feel free to experiment __after__ you got it working"
   ]
  },
  {
   "cell_type": "code",
   "execution_count": 78,
   "metadata": {
    "collapsed": false
   },
   "outputs": [],
   "source": [
    "input_X = T.matrix('input X')\n",
    "target_Y = T.ivector('target Y')"
   ]
  },
  {
   "cell_type": "code",
   "execution_count": 79,
   "metadata": {
    "collapsed": false
   },
   "outputs": [],
   "source": [
    "from lasagne.layers import InputLayer,DenseLayer,batch_norm,dropout"
   ]
  },
  {
   "cell_type": "code",
   "execution_count": 80,
   "metadata": {
    "collapsed": false
   },
   "outputs": [],
   "source": [
    "l_in = InputLayer([None, n_features],input_X,'input layer')\n",
    "\n",
    "n_hid = 1000\n",
    "nonlin = lasagne.nonlinearities.elu\n",
    "\n",
    "nl_in = batch_norm(l_in, name='batchnorm_input_layer')\n",
    "\n",
    "ol_0 = DenseLayer(nl_in,\n",
    "                num_units=n_hid,\n",
    "                name='dense0',\n",
    "                nonlinearity=nonlin)\n",
    "\n",
    "nl_0 = batch_norm(ol_0, name='batchnorm_l_0')\n",
    "l_0 = dropout(nl_0, p=0.2, name='dropout_l_0')\n",
    "\n",
    "ol_1 = DenseLayer(l_0,\n",
    "                num_units=n_hid,\n",
    "                name='dense1',\n",
    "                nonlinearity=nonlin)\n",
    "\n",
    "l_1 = batch_norm(ol_1, name='batchnorm_l_1')\n",
    "\n",
    "\n",
    "ol_2 = DenseLayer(l_1,\n",
    "                num_units=n_hid,\n",
    "                name='dense2',\n",
    "                nonlinearity=nonlin)\n",
    "\n",
    "l_2 = batch_norm(ol_2, name='batchnorm_l_2')\n",
    "\n",
    "ol_3 = DenseLayer(l_2,\n",
    "                num_units=n_hid,\n",
    "                name='dense3',\n",
    "                nonlinearity=nonlin)\n",
    "\n",
    "l_3 = batch_norm(ol_3, name='batchnorm_l_3')\n",
    "\n",
    "ol_4 = DenseLayer(l_3,\n",
    "                num_units=n_hid,\n",
    "                name='dense4',\n",
    "                nonlinearity=nonlin)\n",
    "\n",
    "l_4 = batch_norm(ol_4, name='batchnorm_l_4')\n",
    "\n",
    "nn = DenseLayer(l_4,num_units=2,\n",
    "                name='dense out',\n",
    "                nonlinearity=lasagne.nonlinearities.softmax)"
   ]
  },
  {
   "cell_type": "code",
   "execution_count": 81,
   "metadata": {
    "collapsed": false
   },
   "outputs": [
    {
     "data": {
      "text/plain": [
       "[batchnorm_input_layer.beta,\n",
       " batchnorm_input_layer.gamma,\n",
       " dense0.W,\n",
       " batchnorm_l_0.beta,\n",
       " batchnorm_l_0.gamma,\n",
       " dense1.W,\n",
       " batchnorm_l_1.beta,\n",
       " batchnorm_l_1.gamma,\n",
       " dense2.W,\n",
       " batchnorm_l_2.beta,\n",
       " batchnorm_l_2.gamma,\n",
       " dense3.W,\n",
       " batchnorm_l_3.beta,\n",
       " batchnorm_l_3.gamma,\n",
       " dense4.W,\n",
       " batchnorm_l_4.beta,\n",
       " batchnorm_l_4.gamma,\n",
       " dense out.W,\n",
       " dense out.b]"
      ]
     },
     "execution_count": 81,
     "metadata": {},
     "output_type": "execute_result"
    }
   ],
   "source": [
    "weights = lasagne.layers.get_all_params(nn,trainable=True)\n",
    "weights"
   ]
  },
  {
   "cell_type": "markdown",
   "metadata": {},
   "source": [
    "# weight updates"
   ]
  },
  {
   "cell_type": "code",
   "execution_count": 82,
   "metadata": {
    "collapsed": false
   },
   "outputs": [],
   "source": [
    "nn_out = lasagne.layers.get_output(nn)\n",
    "loss = lasagne.objectives.categorical_crossentropy(nn_out, target_Y).mean()"
   ]
  },
  {
   "cell_type": "code",
   "execution_count": 83,
   "metadata": {
    "collapsed": false
   },
   "outputs": [],
   "source": [
    "updates =lasagne.updates.adadelta(loss,weights)\n",
    "train_fun = theano.function([input_X,target_Y],[loss,nn_out[:,1]],updates=updates)"
   ]
  },
  {
   "cell_type": "markdown",
   "metadata": {},
   "source": [
    "# deterministic predict"
   ]
  },
  {
   "cell_type": "code",
   "execution_count": 84,
   "metadata": {
    "collapsed": false
   },
   "outputs": [],
   "source": [
    "det_nn_out = lasagne.layers.get_output(nn,deterministic=True)\n",
    "det_loss = lasagne.objectives.categorical_crossentropy(det_nn_out,target_Y).mean()\n",
    "val_fun = theano.function([input_X,target_Y],[det_loss,nn_out[:,1]])\n",
    "eval_nn = theano.function([input_X], [det_nn_out[:,1]])"
   ]
  },
  {
   "cell_type": "markdown",
   "metadata": {},
   "source": [
    "# training loop\n",
    "* Almost identical to the original loop from previous seminar\n",
    "* The only difference is that now we keep track of NN performance across iterations"
   ]
  },
  {
   "cell_type": "code",
   "execution_count": 15,
   "metadata": {
    "collapsed": true
   },
   "outputs": [],
   "source": [
    "def iterate_minibatches(inputs, targets, batchsize, shuffle=True):\n",
    "    assert len(inputs) == len(targets)\n",
    "    if shuffle:\n",
    "        indices = np.arange(len(inputs))\n",
    "        np.random.shuffle(indices)\n",
    "    for start_idx in range(0, len(inputs) - batchsize + 1, batchsize):\n",
    "        if shuffle:\n",
    "            excerpt = indices[start_idx:start_idx + batchsize]\n",
    "        else:\n",
    "            excerpt = slice(start_idx, start_idx + batchsize)\n",
    "        yield inputs[excerpt], targets[excerpt]"
   ]
  },
  {
   "cell_type": "code",
   "execution_count": 90,
   "metadata": {
    "collapsed": false
   },
   "outputs": [
    {
     "name": "stdout",
     "output_type": "stream",
     "text": [
      "Epoch 1 of 50 took 315.907s\n",
      "  training loss:\t\t0.475455\n",
      "  training accuracy:\t\t76.69 %\n",
      "  training AUCscore:\t\t85.07 %\n",
      "Epoch 2 of 50 took 309.637s\n",
      "  training loss:\t\t0.475276\n",
      "  training accuracy:\t\t76.69 %\n",
      "  training AUCscore:\t\t85.08 %\n",
      "Epoch 3 of 50 took 308.129s\n",
      "  training loss:\t\t0.475082\n",
      "  training accuracy:\t\t76.70 %\n",
      "  training AUCscore:\t\t85.09 %\n",
      "Epoch 4 of 50 took 315.047s\n",
      "  training loss:\t\t0.474955\n",
      "  training accuracy:\t\t76.72 %\n",
      "  training AUCscore:\t\t85.10 %\n",
      "Epoch 5 of 50 took 315.392s\n",
      "  training loss:\t\t0.474688\n",
      "  training accuracy:\t\t76.72 %\n",
      "  training AUCscore:\t\t85.12 %\n",
      "Epoch 6 of 50 took 314.627s\n",
      "  training loss:\t\t0.474541\n",
      "  training accuracy:\t\t76.75 %\n",
      "  training AUCscore:\t\t85.13 %\n",
      "Epoch 7 of 50 took 311.195s\n",
      "  training loss:\t\t0.474367\n",
      "  training accuracy:\t\t76.76 %\n",
      "  training AUCscore:\t\t85.14 %\n",
      "Epoch 8 of 50 took 311.701s\n",
      "  training loss:\t\t0.474353\n",
      "  training accuracy:\t\t76.75 %\n",
      "  training AUCscore:\t\t85.15 %\n",
      "Epoch 9 of 50 took 309.440s\n",
      "  training loss:\t\t0.474006\n",
      "  training accuracy:\t\t76.78 %\n",
      "  training AUCscore:\t\t85.17 %\n",
      "Epoch 10 of 50 took 305.929s\n",
      "  training loss:\t\t0.473835\n",
      "  training accuracy:\t\t76.79 %\n",
      "  training AUCscore:\t\t85.18 %\n",
      "Epoch 11 of 50 took 306.165s\n",
      "  training loss:\t\t0.473750\n",
      "  training accuracy:\t\t76.79 %\n",
      "  training AUCscore:\t\t85.19 %\n"
     ]
    },
    {
     "ename": "KeyboardInterrupt",
     "evalue": "",
     "output_type": "error",
     "traceback": [
      "\u001b[1;31m---------------------------------------------------------------------------\u001b[0m",
      "\u001b[1;31mKeyboardInterrupt\u001b[0m                         Traceback (most recent call last)",
      "\u001b[1;32m<ipython-input-90-dc3b9dcc7a10>\u001b[0m in \u001b[0;36m<module>\u001b[1;34m()\u001b[0m\n\u001b[0;32m     22\u001b[0m     \u001b[1;32mfor\u001b[0m \u001b[0mbatch\u001b[0m \u001b[1;32min\u001b[0m \u001b[0miterate_minibatches\u001b[0m\u001b[1;33m(\u001b[0m\u001b[0mX\u001b[0m\u001b[1;33m,\u001b[0m \u001b[0my\u001b[0m\u001b[1;33m,\u001b[0m \u001b[0mbatch_size\u001b[0m\u001b[1;33m,\u001b[0m \u001b[0mshuffle\u001b[0m\u001b[1;33m=\u001b[0m\u001b[0mTrue\u001b[0m\u001b[1;33m)\u001b[0m\u001b[1;33m:\u001b[0m\u001b[1;33m\u001b[0m\u001b[0m\n\u001b[0;32m     23\u001b[0m         \u001b[0minputs\u001b[0m\u001b[1;33m,\u001b[0m \u001b[0mtargets\u001b[0m \u001b[1;33m=\u001b[0m \u001b[0mbatch\u001b[0m\u001b[1;33m\u001b[0m\u001b[0m\n\u001b[1;32m---> 24\u001b[1;33m         \u001b[0merr\u001b[0m\u001b[1;33m,\u001b[0m \u001b[0my_pred\u001b[0m \u001b[1;33m=\u001b[0m \u001b[0mtrain_fun\u001b[0m\u001b[1;33m(\u001b[0m\u001b[0minputs\u001b[0m\u001b[1;33m,\u001b[0m \u001b[0mtargets\u001b[0m\u001b[1;33m)\u001b[0m\u001b[1;33m\u001b[0m\u001b[0m\n\u001b[0m\u001b[0;32m     25\u001b[0m \u001b[1;33m\u001b[0m\u001b[0m\n\u001b[0;32m     26\u001b[0m         \u001b[0mYpred_batches\u001b[0m\u001b[1;33m.\u001b[0m\u001b[0mappend\u001b[0m\u001b[1;33m(\u001b[0m\u001b[0my_pred\u001b[0m\u001b[1;33m)\u001b[0m\u001b[1;33m\u001b[0m\u001b[0m\n",
      "\u001b[1;32m/homeappl/home/austyuzh/miniconda2/lib/python2.7/site-packages/theano/compile/function_module.pyc\u001b[0m in \u001b[0;36m__call__\u001b[1;34m(self, *args, **kwargs)\u001b[0m\n\u001b[0;32m    897\u001b[0m         \u001b[1;32mtry\u001b[0m\u001b[1;33m:\u001b[0m\u001b[1;33m\u001b[0m\u001b[0m\n\u001b[0;32m    898\u001b[0m             \u001b[0moutputs\u001b[0m \u001b[1;33m=\u001b[0m\u001b[0;31m\\\u001b[0m\u001b[1;33m\u001b[0m\u001b[0m\n\u001b[1;32m--> 899\u001b[1;33m                 \u001b[0mself\u001b[0m\u001b[1;33m.\u001b[0m\u001b[0mfn\u001b[0m\u001b[1;33m(\u001b[0m\u001b[1;33m)\u001b[0m \u001b[1;32mif\u001b[0m \u001b[0moutput_subset\u001b[0m \u001b[1;32mis\u001b[0m \u001b[0mNone\u001b[0m \u001b[1;32melse\u001b[0m\u001b[0;31m\\\u001b[0m\u001b[1;33m\u001b[0m\u001b[0m\n\u001b[0m\u001b[0;32m    900\u001b[0m                 \u001b[0mself\u001b[0m\u001b[1;33m.\u001b[0m\u001b[0mfn\u001b[0m\u001b[1;33m(\u001b[0m\u001b[0moutput_subset\u001b[0m\u001b[1;33m=\u001b[0m\u001b[0moutput_subset\u001b[0m\u001b[1;33m)\u001b[0m\u001b[1;33m\u001b[0m\u001b[0m\n\u001b[0;32m    901\u001b[0m         \u001b[1;32mexcept\u001b[0m \u001b[0mException\u001b[0m\u001b[1;33m:\u001b[0m\u001b[1;33m\u001b[0m\u001b[0m\n",
      "\u001b[1;31mKeyboardInterrupt\u001b[0m: "
     ]
    }
   ],
   "source": [
    "train_auc_curve = []\n",
    "train_acc_curve = []\n",
    "val_auc_curve = []\n",
    "val_acc_curve = []\n",
    "\n",
    "num_epochs = 50\n",
    "batch_size=15000\n",
    "\n",
    "import time\n",
    "from sklearn.metrics import roc_auc_score,accuracy_score\n",
    "\n",
    "for epoch in range(num_epochs):\n",
    "    # In each epoch, we do a full pass over the training data:\n",
    "\n",
    "    start_time = time.time()\n",
    "    \n",
    "    train_err = 0\n",
    "    Ypred_batches = []\n",
    "    Ytrue_batches = []\n",
    "    train_batches = 0\n",
    "    \n",
    "    for batch in iterate_minibatches(X, y, batch_size, shuffle=True):\n",
    "        inputs, targets = batch\n",
    "        err, y_pred = train_fun(inputs, targets)\n",
    "        \n",
    "        Ypred_batches.append(y_pred)\n",
    "        Ytrue_batches.append(targets)\n",
    "        \n",
    "        train_err += err\n",
    "        train_batches += 1\n",
    "    \n",
    "    Ypred_train = np.concatenate(Ypred_batches)\n",
    "    Ytrue_train = np.concatenate(Ytrue_batches)\n",
    "    train_acc = accuracy_score(Ytrue_train, Ypred_train>0.5)\n",
    "    train_auc = roc_auc_score(Ytrue_train, Ypred_train)\n",
    "    \n",
    "    train_acc_curve.append(train_acc)\n",
    "    train_auc_curve.append(train_auc)\n",
    "\n",
    "\n",
    "    # Then we print the results for this epoch:\n",
    "    print(\"Epoch {} of {} took {:.3f}s\".format(\n",
    "        epoch + 1, num_epochs, time.time() - start_time))\n",
    "    print(\"  training loss:\\t\\t{:.6f}\".format(train_err / train_batches))\n",
    "    print(\"  training accuracy:\\t\\t{:.2f} %\".format(\n",
    "        train_acc * 100))\n",
    "    print(\"  training AUCscore:\\t\\t{:.2f} %\".format(\n",
    "        train_auc * 100))\n",
    "\n",
    "    \n",
    "    \n"
   ]
  },
  {
   "cell_type": "code",
   "execution_count": 76,
   "metadata": {
    "collapsed": false
   },
   "outputs": [
    {
     "data": {
      "image/png": "[encoded data removed]",
      "text/plain": [
       "<matplotlib.figure.Figure at 0x7fd641a94cd0>"
      ]
     },
     "metadata": {},
     "output_type": "display_data"
    }
   ],
   "source": [
    "plt.plot(train_acc_curve,label='training accuracy')\n",
    "plt.plot(train_auc_curve,label='training auc')\n",
    "plt.xlabel(\"epochs\")\n",
    "plt.legend(loc='best')\n",
    "plt.ylim(0.6,0.9);"
   ]
  },
  {
   "cell_type": "code",
   "execution_count": 77,
   "metadata": {
    "collapsed": false
   },
   "outputs": [
    {
     "data": {
      "text/plain": [
       "<matplotlib.legend.Legend at 0x7fd5adeb3810>"
      ]
     },
     "execution_count": 77,
     "metadata": {},
     "output_type": "execute_result"
    },
    {
     "data": {
      "image/png": "[encoded data removed]",
      "text/plain": [
       "<matplotlib.figure.Figure at 0x7fd5afccb1d0>"
      ]
     },
     "metadata": {},
     "output_type": "display_data"
    }
   ],
   "source": [
    "from sklearn.metrics import roc_curve\n",
    "plt.title('Resulting ROC curves')\n",
    "\n",
    "fpr,tpr,_ = roc_curve(Ytrue_train,Ypred_train)\n",
    "plt.plot(fpr,tpr,label='training ROC, auc=%.5f'%(train_auc))\n",
    "\n",
    "plt.legend(loc='best')\n"
   ]
  },
  {
   "cell_type": "code",
   "execution_count": 61,
   "metadata": {
    "collapsed": false
   },
   "outputs": [
    {
     "name": "stdout",
     "output_type": "stream",
     "text": [
      "Index([u'lepton_pt', u'lepton_eta', u'lepton_phi', u'mem_pt', u'mem_phi',\n",
      "       u'jet1_pt', u'jet1_eta', u'jet1_phi', u'jet1_btag', u'jet2_pt',\n",
      "       u'jet2_eta', u'jet2_phi', u'jet2_btag', u'jet3_pt', u'jet3_eta',\n",
      "       u'jet3_phi', u'jet3_btag', u'jet4_pt', u'jet4_eta', u'jet4_phi',\n",
      "       u'jet4_btag', u'm_jj', u'm_jjj', u'm_lv', u'm_jlv', u'm_bb', u'm_wbb',\n",
      "       u'm_wwbb'],\n",
      "      dtype='object')\n"
     ]
    }
   ],
   "source": []
  },
  {
   "cell_type": "code",
   "execution_count": 38,
   "metadata": {
    "collapsed": false
   },
   "outputs": [
    {
     "data": {
      "text/plain": [
       "array([[  5.88143539e+01,  -1.22319949e+00,   1.29071748e+00, ...,\n",
       "          9.57374344e+01,   3.72835388e+02,   4.69654236e+02],\n",
       "       [  2.13907814e+01,  -4.68276858e-01,  -1.37140429e+00, ...,\n",
       "          1.95910385e+02,   3.10480103e+02,   4.31597137e+02],\n",
       "       [  5.85702171e+01,   1.44309211e+00,   1.05191082e-01, ...,\n",
       "          3.51328644e+02,   6.38053040e+02,   7.90960815e+02],\n",
       "       ..., \n",
       "       [  7.40437012e+01,   1.87849438e+00,  -1.93299925e+00, ...,\n",
       "          1.35753372e+02,   3.01967651e+02,   4.12872284e+02],\n",
       "       [  6.61716843e+01,  -4.74488467e-01,  -9.88960624e-01, ...,\n",
       "          8.23654480e+01,   6.89026123e+02,   9.28406311e+02],\n",
       "       [  3.75219002e+01,  -1.21568963e-01,   2.39158845e+00, ...,\n",
       "          1.39968231e+02,   2.65002258e+02,   3.61302765e+02]], dtype=float32)"
      ]
     },
     "execution_count": 38,
     "metadata": {},
     "output_type": "execute_result"
    }
   ],
   "source": []
  },
  {
   "cell_type": "code",
   "execution_count": 91,
   "metadata": {
    "collapsed": false
   },
   "outputs": [
    {
     "data": {
      "text/html": [
       "<a href='nn10m5.csv' target='_blank'>nn10m5.csv</a><br>"
      ],
      "text/plain": [
       "/homeappl/home/trng52/mlhep2016/day_6/nn10m5.csv"
      ]
     },
     "execution_count": 91,
     "metadata": {},
     "output_type": "execute_result"
    }
   ],
   "source": [
    "#df[df.columns[1:]].values.astype(theano.config.floatX)\n",
    "kaggle_proba = np.array(eval_nn(test.values.astype(theano.config.floatX)))\n",
    "kaggle_proba.shape = (kaggle_proba.shape[1],)\n",
    "kaggle_ids = np.arange(kaggle_proba.shape[0])+1\n",
    "\n",
    "from IPython.display import FileLink\n",
    "def create_solution(ids, proba, filename='baseline.csv'):\n",
    "    \"\"\"saves predictions to file and provides a link for downloading \"\"\"\n",
    "    pd.DataFrame({'event_id': ids, 'prediction': proba}).to_csv('{}'.format(filename), index=False)\n",
    "    return FileLink('{}'.format(filename))\n",
    "    \n",
    "create_solution(kaggle_ids, kaggle_proba, filename='nn10m5.csv')"
   ]
  },
  {
   "cell_type": "markdown",
   "metadata": {},
   "source": [
    "## Task 1:\n",
    "Add batch normalization after each hidden layer. See if new network does better that the old one.\n",
    "\n",
    "To add Batch Normalization, one can use batch_norm:\n",
    "\n",
    "```\n",
    "normalized_layer = lasagne.layers.batch_norm(previous_layer)\n",
    "```\n",
    "\n",
    "For simplicity, one can implement batch-normalized NN in a new notebook by \n",
    "clicking __File__ -> __Make a copy__ in the jupyter notebook top bar. Do not forget to rename the copy.\n",
    "\n",
    "\n",
    "Alternatively, one can just copy-paste code or start editing\n",
    "\n",
    "\n",
    "__Bonus task 1.1__:\n",
    " - See if batch-normalizing input does you any good.\n",
    " - Which operation is this ~equivalent to in terms of Scikit-Learn?\n",
    " \n",
    " \n",
    "__ After you made it through batch_normalization, scroll to the notebook bottom for the second assignment__"
   ]
  },
  {
   "cell_type": "code",
   "execution_count": null,
   "metadata": {
    "collapsed": true
   },
   "outputs": [],
   "source": []
  },
  {
   "cell_type": "code",
   "execution_count": null,
   "metadata": {
    "collapsed": true
   },
   "outputs": [],
   "source": []
  },
  {
   "cell_type": "markdown",
   "metadata": {
    "collapsed": true
   },
   "source": [
    "```\n",
    "\n",
    "```\n",
    "\n",
    "```\n",
    "\n",
    "```\n",
    "\n",
    "```\n",
    "\n",
    "```\n",
    "\n",
    "```\n",
    "\n",
    "```\n",
    "\n",
    "```\n",
    "\n",
    "```\n",
    "\n",
    "```\n",
    "\n",
    "```\n",
    "\n",
    "```\n",
    "\n",
    "```\n",
    "\n",
    "```\n",
    "\n",
    "```\n",
    "\n",
    "```\n",
    "\n",
    "```\n",
    "\n",
    "```\n",
    "\n",
    "```\n",
    "\n",
    "```\n",
    "\n",
    "```\n",
    "\n",
    "```\n",
    "\n",
    "```\n",
    "\n",
    "```\n",
    "\n",
    "```\n",
    "\n",
    "```\n",
    "\n",
    "```\n",
    "\n",
    "```\n",
    "\n",
    "```\n",
    "\n",
    "```\n",
    "\n",
    "```\n",
    "\n",
    "```\n",
    "\n",
    "```\n",
    "\n",
    "```\n",
    "\n",
    "```\n",
    "\n",
    "```\n",
    "\n",
    "```\n",
    "\n",
    "```\n",
    "\n",
    "```\n",
    "\n",
    "```\n",
    "\n",
    "```\n",
    "\n",
    "```\n",
    "\n",
    "```\n",
    "\n",
    "```\n",
    "\n",
    "```\n",
    "\n",
    "```\n",
    "\n",
    "```\n",
    "\n",
    "```\n",
    "\n",
    "```\n",
    "\n",
    "```\n",
    "\n",
    "```\n",
    "\n",
    "```\n",
    "\n",
    "```\n",
    "\n",
    "#### Assuming, you made it through the batch-normalization assignment.\n",
    "\n",
    "__Task2__\n",
    "\n",
    "If you have seen the batch-normalized NN learning curves, you probably have noticed that the validation curves first ascended to a peak and than started to descend while the training score still increase. That's some __overfitting__ happening right in front of you!\n",
    "\n",
    "Your second task, and also a reasonable step towards improving your kaggle ensemble, is to get rid of that overfitting by the tools you know already:\n",
    "\n",
    "- __Early stopping__: stop training when validation score starts decreasing\n",
    "- __Dropout__: force nn to learn redundant representations using [lasagne.layers.DropoutLayer](http://lasagne.readthedocs.io/en/latest/modules/layers/noise.html) (syntax like batch_norm)\n",
    "- __L2 or L1 regularization__: plain old weight penalty still works here. Can be implemented using [lasagne.regularization](http://lasagne.readthedocs.io/en/latest/modules/regularization.html)\n",
    "- __Distortion__: add random (e.g. gaussian) noize to the input data to virtually increase dataset size. \n",
    "   * Can be done via [gaussian noise layer](http://lasagne.readthedocs.io/en/latest/modules/layers/noise.html#lasagne.layers.GaussianNoiseLayer) or manually\n",
    "   \n",
    "   \n",
    "A friendly advice:\n",
    " - You are not restricted to a single approach, however we recommend slow and methodic changes against mixing everything in random proportions right away.\n",
    " - If a method is more mathematically sound or cool than others, it doesn't mean it's bound to score better in competition.\n",
    "   \n",
    "Again, the recommended approach is to copy a notebook and solve the task in the copied version, however you may pick ane approach at your own doom."
   ]
  },
  {
   "cell_type": "code",
   "execution_count": null,
   "metadata": {
    "collapsed": true
   },
   "outputs": [],
   "source": []
  }
 ],
 "metadata": {
  "kernelspec": {
   "display_name": "Python 2",
   "language": "python",
   "name": "python2"
  },
  "language_info": {
   "codemirror_mode": {
    "name": "ipython",
    "version": 2
   },
   "file_extension": ".py",
   "mimetype": "text/x-python",
   "name": "python",
   "nbconvert_exporter": "python",
   "pygments_lexer": "ipython2",
   "version": "2.7.11"
  }
 },
 "nbformat": 4,
 "nbformat_minor": 0
}
