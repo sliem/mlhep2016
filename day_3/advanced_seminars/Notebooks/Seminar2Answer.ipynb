{
 "cells": [
  {
   "cell_type": "markdown",
   "metadata": {},
   "source": [
    "# About\n",
    "\n",
    "This notebook is for the seminar 2. Here you will find tasks and all necessary information to complete them."
   ]
  },
  {
   "cell_type": "code",
   "execution_count": 1,
   "metadata": {
    "collapsed": true
   },
   "outputs": [],
   "source": [
    "%matplotlib inline\n",
    "import numpy\n",
    "import pandas\n",
    "import matplotlib.pyplot as plt\n",
    "\n",
    "import os, sys\n",
    "sys.path.append('../code')"
   ]
  },
  {
   "cell_type": "markdown",
   "metadata": {},
   "source": [
    "## Generate events\n",
    "\n",
    "This section shows how data sample with 2D straight track can be generated. The data sample consist of number of events. Each event is a set of hits. Some of the hits form track, but some of them are just noise hits.  \n",
    "\n",
    "For the events generation a **straight_tracks_generator** function is used.\n",
    "\n",
    "Parameters of the function:\n",
    "\n",
    "**n_events**: int, number of generated events.\n",
    "\n",
    "**n_tracks**: int, number of generated tracks in each event. Tracks will have TrackIDs in range [0, inf).\n",
    "\n",
    "**n_noise**: int, number of generated random noise hits. Noise hits will have TrackID -1.\n",
    "\n",
    "**sigma**: float, track's hit generated with error which has normal distribution.\n",
    "              Sigma is parameter of the distribution.\n",
    "              \n",
    "**intersection**: booleen, if False the tracks will not intersect each other.\n",
    "\n",
    "**x_range**: tuple (min, max, step), range of x values of the hits.\n",
    "\n",
    "**y_range**: tuple (min, max, step), range of y values of the hits. Only for intersection=False.\n",
    "\n",
    "**k_range**: tuple (min, max, step), range of k values of the track. y = b + k * x.\n",
    "\n",
    "**b_range**: tuple (min, max, step), range of b values of the track. y = b + k * x."
   ]
  },
  {
   "cell_type": "code",
   "execution_count": 2,
   "metadata": {
    "collapsed": false
   },
   "outputs": [
    {
     "data": {
      "text/html": [
       "<div>\n",
       "<table border=\"1\" class=\"dataframe\">\n",
       "  <thead>\n",
       "    <tr style=\"text-align: right;\">\n",
       "      <th></th>\n",
       "      <th>EventID</th>\n",
       "      <th>TrackID</th>\n",
       "      <th>X</th>\n",
       "      <th>y</th>\n",
       "    </tr>\n",
       "  </thead>\n",
       "  <tbody>\n",
       "    <tr>\n",
       "      <th>0</th>\n",
       "      <td>0</td>\n",
       "      <td>0</td>\n",
       "      <td>0</td>\n",
       "      <td>0.989907</td>\n",
       "    </tr>\n",
       "    <tr>\n",
       "      <th>1</th>\n",
       "      <td>0</td>\n",
       "      <td>0</td>\n",
       "      <td>1</td>\n",
       "      <td>1.109944</td>\n",
       "    </tr>\n",
       "    <tr>\n",
       "      <th>2</th>\n",
       "      <td>0</td>\n",
       "      <td>0</td>\n",
       "      <td>2</td>\n",
       "      <td>1.222444</td>\n",
       "    </tr>\n",
       "    <tr>\n",
       "      <th>3</th>\n",
       "      <td>0</td>\n",
       "      <td>0</td>\n",
       "      <td>3</td>\n",
       "      <td>1.344984</td>\n",
       "    </tr>\n",
       "    <tr>\n",
       "      <th>4</th>\n",
       "      <td>0</td>\n",
       "      <td>0</td>\n",
       "      <td>4</td>\n",
       "      <td>1.458528</td>\n",
       "    </tr>\n",
       "  </tbody>\n",
       "</table>\n",
       "</div>"
      ],
      "text/plain": [
       "   EventID  TrackID  X         y\n",
       "0        0        0  0  0.989907\n",
       "1        0        0  1  1.109944\n",
       "2        0        0  2  1.222444\n",
       "3        0        0  3  1.344984\n",
       "4        0        0  4  1.458528"
      ]
     },
     "execution_count": 2,
     "metadata": {},
     "output_type": "execute_result"
    }
   ],
   "source": [
    "from utils import straight_tracks_generator\n",
    "events = straight_tracks_generator(n_events=10, n_tracks=3, n_noise=5, sigma=0.01, x_range=(0, 10, 1), intersection=False, y_range=(0, 10, 1))\n",
    "\n",
    "events.head()"
   ]
  },
  {
   "cell_type": "markdown",
   "metadata": {},
   "source": [
    "## Plot Tracks\n",
    "\n",
    "Function **plot_straight_tracks** generates plot of an event with its tracks and noise hits.\n",
    "\n",
    "Parameters of the function:\n",
    "\n",
    "**event**: pandas.DataFrame with one event.\n",
    "\n",
    "**labels**: numpy.array shape=[n_hits], labels of recognized tracks.\n",
    "\n",
    "**return**: matplotlib.pyplot object."
   ]
  },
  {
   "cell_type": "code",
   "execution_count": 3,
   "metadata": {
    "collapsed": true
   },
   "outputs": [],
   "source": [
    "event = events[events.EventID == 0]\n",
    "X = event.X.values\n",
    "y = event.y.values"
   ]
  },
  {
   "cell_type": "code",
   "execution_count": 4,
   "metadata": {
    "collapsed": false
   },
   "outputs": [
    {
     "data": {
      "image/png": "[encoded data removed]",
      "text/plain": [
       "<matplotlib.figure.Figure at 0x10aeaba90>"
      ]
     },
     "metadata": {},
     "output_type": "display_data"
    }
   ],
   "source": [
    "from utils import plot_straight_tracks\n",
    "plot_straight_tracks(event, labels=None)\n",
    "plt.xlim(-0.5, 9.5)\n",
    "plt.ylabel('Y', size=15)\n",
    "plt.xlabel('X', size=15)\n",
    "plt.xticks(size=15)\n",
    "plt.yticks(size=15)\n",
    "plt.show()"
   ]
  },
  {
   "cell_type": "markdown",
   "metadata": {},
   "source": [
    "## Tracks Recognition"
   ]
  },
  {
   "cell_type": "markdown",
   "metadata": {},
   "source": [
    "## Rotor Model\n",
    "\n",
    "The first task is to realize a rotor model for the track pattern recognition.\n",
    "\n",
    "Finish the following class below. Run it. Play with it!"
   ]
  },
  {
   "cell_type": "code",
   "execution_count": 128,
   "metadata": {
    "collapsed": false
   },
   "outputs": [],
   "source": [
    "from seminars_utils import rotors2states, cut_neurons, find_tracks, cut_labels\n",
    "\n",
    "class RotorModel(object):\n",
    "\n",
    "    def __init__(self, n_iter, alpha, degree, temperature, min_rotor_cos, max_states_cos, min_hits):\n",
    "        \"\"\"\n",
    "        This class is realization of the rotor model of the tracks recognition.\n",
    "        :param n_iter: int, number of iterations.\n",
    "        :param alpha: float, penalty for the large angle between a rotor and a vector between two hits in the energy function.\n",
    "        :param degree: int, degree of distance between two hits.\n",
    "        :param temperature: float, temperature in update rule.\n",
    "        :param min_rotor_cos: float, min abs value of cos of angle between a rotor of a hit and the vector between of the two hits.\n",
    "        If the cos less than this value, the link between the hits refused.\n",
    "        :param max_states_cos: float, if cos between two neurons is less than this value, the rotors are from the same track.\n",
    "        :param min_hits: int, tracks with number of hits larger then min_hits considered as a track candidate.\n",
    "        :return:\n",
    "        \"\"\"\n",
    "\n",
    "        self.n_iter = n_iter\n",
    "        self.alpha = alpha\n",
    "        self.temperature = temperature\n",
    "        self.degree = degree\n",
    "        self.min_rotor_cos = min_rotor_cos\n",
    "        self.max_states_cos = max_states_cos\n",
    "        self.min_hits = min_hits\n",
    "\n",
    "        self.dist_ = None\n",
    "        self.radiu_ = None\n",
    "        self.rotors_ = None\n",
    "\n",
    "        self.energy_stages_ = []\n",
    "        self.rotor_stages_ = []\n",
    "\n",
    "    def r_modules(self, x, y):\n",
    "        \"\"\"\n",
    "        This method calculates distances between each pair of hits.\n",
    "        :param x: numpy.array, shape = [n_hits], x-coordinates of the hits.\n",
    "        :param y: numpy.array, shape = [n_hits], y-coordinates of the hits.\n",
    "        :return: numpy.ndarray, shape = [n_hirs, n_hirs]\n",
    "        \"\"\"\n",
    "\n",
    "        # Change the following code by the correct one. Inputs and outputs are the same.\n",
    "        # dist = numpy.random.rand(len(x), len(x))\n",
    "        \n",
    "        n_hits = len(x)\n",
    "\n",
    "        dist = numpy.zeros((n_hits, n_hits))\n",
    "\n",
    "        for i in range(n_hits):\n",
    "\n",
    "            for j in range(n_hits):\n",
    "\n",
    "                dist[i, j] = numpy.array((x[i] - x[j])**2 + (y[i] - y[j])**2)\n",
    "\n",
    "        return dist\n",
    "\n",
    "    def r_vectors(self, x, y):\n",
    "        \"\"\"\n",
    "        This method calculates coordinates of vectors between each pair of hits.\n",
    "        :param x: numpy.array, shape = [n_hits], x-coordinates of the hits.\n",
    "        :param y: numpy.array, shape = [n_hits], y-coordinates of the hits.\n",
    "        :return: numpy.ndarray, shape = [n_hirs, n_hirs, 2]\n",
    "        \"\"\"\n",
    "        \n",
    "        # Change the following code by the correct one. Inputs and outputs are the same.\n",
    "        # radius = numpy.random.rand(len(x), len(x), 2)\n",
    "\n",
    "        n_hits = len(x)\n",
    "\n",
    "        radius = numpy.zeros((n_hits, n_hits, 2))\n",
    "\n",
    "        for i in range(n_hits):\n",
    "\n",
    "            for j in range(n_hits):\n",
    "\n",
    "                vector = numpy.array([x[j] - x[i], y[j] - y[i]])\n",
    "                radius[i, j] = vector\n",
    "\n",
    "        return radius\n",
    "\n",
    "    def energy(self, rotor, dist, radius):\n",
    "        \"\"\"\n",
    "        This method calculates energy of while system.\n",
    "        :param rotor: numpy.ndarray, shape = [n_hits, 2], rotors of the hits.\n",
    "        :param dist: numpy.ndarray, shape = [n_hirs, n_hirs], distances between each pair of hits.\n",
    "        :param radius: numpy.ndarray, shape = [n_hirs, n_hirs, 2], coordinates of vectors between each pair of hits.\n",
    "        :return: float\n",
    "        \"\"\"\n",
    "        \n",
    "        # Change the following code by the correct one. Inputs and outputs are the same.\n",
    "        # E = numpy.random.rand(1)[0]\n",
    "\n",
    "        n_hits = len(rotor)\n",
    "\n",
    "        E = 0\n",
    "\n",
    "        for i in range(n_hits):\n",
    "\n",
    "            for j in range(n_hits):\n",
    "\n",
    "                if i==j:\n",
    "                    continue\n",
    "\n",
    "                E += -0.5 * 1. / dist[i,j]**self.degree * numpy.inner(rotor[i], rotor[j]) \\\n",
    "                     -0.5 * self.alpha * 1. / dist[i,j]**self.degree * (numpy.inner(rotor[i], radius[i,j]))**2\n",
    "\n",
    "        return E\n",
    "\n",
    "    def energy_derivative(self, rotor, dist, radius):\n",
    "        \"\"\"\n",
    "        This method calculates derivative of the energy of while system.\n",
    "        :param rotor: numpy.ndarray, shape = [n_hits, 2], rotors of the hits.\n",
    "        :param dist: numpy.ndarray, shape = [n_hirs, n_hirs], distances between each pair of hits.\n",
    "        :param radius: numpy.ndarray, shape = [n_hirs, n_hirs, 2], coordinates of vectors between each pair of hits.\n",
    "        :return: float\n",
    "        \"\"\"\n",
    "        \n",
    "        # Change the following code by the correct one. Inputs and outputs are the same.\n",
    "        # dE = numpy.random.rand(1)[0]\n",
    "\n",
    "        n_hits = len(rotor)\n",
    "\n",
    "        dE = numpy.zeros((n_hits, 2))\n",
    "\n",
    "        for i in range(n_hits):\n",
    "\n",
    "            for j in range(n_hits):\n",
    "\n",
    "                if i==j:\n",
    "                    continue\n",
    "\n",
    "                dE[i] += -0.5 * 1. / dist[i,j]**self.degree * rotor[j] \\\n",
    "                     -1. * self.alpha * 1. / dist[i,j]**self.degree * (numpy.inner(rotor[i], radius[i,j])) * radius[i,j]\n",
    "\n",
    "        return dE\n",
    "\n",
    "    def rotors2labels(self, x, y, rotor, min_rotor_cos, max_states_cos):\n",
    "        \"\"\"\n",
    "        This method transform rotors to labels of the hits.\n",
    "        :param x: numpy.array, shape = [n_hits], x-coordinates of the hits.\n",
    "        :param y: numpy.array, shape = [n_hits], y-coordinates of the hits.\n",
    "        :param rotor: numpy.ndarray, shape = [n_hits, 2], rotors of the hits.\n",
    "        :param min_rotor_cos: float, min abs value of cos of angle between a rotor of a hit and the vector between of the two hits.\n",
    "        If the cos less than this value, the link between the hits refused.\n",
    "        :param max_states_cos: float, if cos between two neurons is less than this value, the rotors are from the same track. \n",
    "        :return: numpy.array, shape = [n_hits]; numpy.ndarray, shape = [n_hits, n_hits]\n",
    "        \"\"\"\n",
    "        \n",
    "        # You can code you own method.\n",
    "\n",
    "        states = rotors2states(x, y, rotor, min_rotor_cos)\n",
    "        cut_states = cut_neurons(x, y, states, max_states_cos, 0.5)\n",
    "        labels = find_tracks(cut_states, 0.5)\n",
    "        cutted_labels = cut_labels(labels, min_hits=self.min_hits)\n",
    "\n",
    "        return cutted_labels, cut_states\n",
    "\n",
    "\n",
    "    def fit(self, x, y):\n",
    "        \"\"\"\n",
    "        This method runs the rotor model.\n",
    "        :param x: numpy.array, shape = [n_hits], x-coordinates of the hits.\n",
    "        :param y: numpy.array, shape = [n_hits], y-coordinates of the hits. \n",
    "        :return:\n",
    "        \"\"\"\n",
    "\n",
    "        n_hits = len(x)\n",
    "\n",
    "        dist = self.r_modules(x, y)\n",
    "        self.dist_ = dist\n",
    "\n",
    "        radius = self.r_vectors(x, y)\n",
    "        self.radius_ = radius\n",
    "\n",
    "        rotor = numpy.random.rand(n_hits, 2)\n",
    "        self.rotor_ = rotor\n",
    "\n",
    "        E = self.energy(rotor, dist, radius)\n",
    "        dE = self.energy_derivative(rotor, dist, radius)\n",
    "\n",
    "        self.energy_stages_.append(E)\n",
    "        self.rotor_stages_.append(rotor)\n",
    "\n",
    "        for one_iter in range(self.n_iter):\n",
    "\n",
    "            # Code update rule of the rotors.\n",
    "            \n",
    "            dE = self.energy_derivative(rotor, dist, radius)\n",
    "            rotor = numpy.tanh(- dE / self.temperature)\n",
    "\n",
    "            E = self.energy(rotor, dist, radius)\n",
    "\n",
    "            self.energy_stages_.append(E)\n",
    "            self.rotor_stages_.append(rotor)\n",
    "\n",
    "\n",
    "        self.labels_, self.cut_states_ = self.rotors2labels(x, y, rotor, self.min_rotor_cos, self.max_states_cos)\n",
    "        self.rotor_ = rotor\n"
   ]
  },
  {
   "cell_type": "code",
   "execution_count": 129,
   "metadata": {
    "collapsed": false
   },
   "outputs": [],
   "source": [
    "rm = RotorModel(n_iter=20, alpha=1., temperature=1.0, degree=4.0, min_rotor_cos=0.8, max_states_cos=-0.9, min_hits=3)\n",
    "rm.fit(X, y)\n",
    "\n",
    "dist = rm.dist_\n",
    "radius = rm.radius_\n",
    "rotor = rm.rotor_\n",
    "labels = rm.labels_\n",
    "\n",
    "energies = rm.energy_stages_"
   ]
  },
  {
   "cell_type": "code",
   "execution_count": 130,
   "metadata": {
    "collapsed": false
   },
   "outputs": [
    {
     "data": {
      "image/png": "[encoded data removed]",
      "text/plain": [
       "<matplotlib.figure.Figure at 0x10b3b8350>"
      ]
     },
     "metadata": {},
     "output_type": "display_data"
    }
   ],
   "source": [
    "plt.plot(energies)\n",
    "plt.show()"
   ]
  },
  {
   "cell_type": "code",
   "execution_count": 136,
   "metadata": {
    "collapsed": false
   },
   "outputs": [
    {
     "data": {
      "image/png": "[encoded data removed]",
      "text/plain": [
       "<matplotlib.figure.Figure at 0x10b958b50>"
      ]
     },
     "metadata": {},
     "output_type": "display_data"
    }
   ],
   "source": [
    "plt.figure(figsize=(10,7))\n",
    "plt.scatter(X,y)\n",
    "\n",
    "for i in range(len(X)):\n",
    "    \n",
    "    plt.plot(numpy.array([X[i], X[i]+rotor[i, 0]]), numpy.array([y[i], y[i]+rotor[i, 1]]))\n",
    "    \n",
    "plt.xlabel('X')\n",
    "plt.ylabel('Y')\n",
    "plt.title('Rotors')\n",
    "plt.show()"
   ]
  },
  {
   "cell_type": "code",
   "execution_count": 125,
   "metadata": {
    "collapsed": false
   },
   "outputs": [
    {
     "data": {
      "image/png": "[encoded data removed]",
      "text/plain": [
       "<matplotlib.figure.Figure at 0x10b56e3d0>"
      ]
     },
     "metadata": {},
     "output_type": "display_data"
    }
   ],
   "source": [
    "from DenbyPeterson import plot_neural_net\n",
    "\n",
    "plot_neural_net(X, y, states, 0.5)\n",
    "plt.show()"
   ]
  },
  {
   "cell_type": "code",
   "execution_count": 126,
   "metadata": {
    "collapsed": false
   },
   "outputs": [
    {
     "data": {
      "image/png": "[encoded data removed]",
      "text/plain": [
       "<matplotlib.figure.Figure at 0x10b668150>"
      ]
     },
     "metadata": {},
     "output_type": "display_data"
    }
   ],
   "source": [
    "plot_neural_net(X, y, cut_states, 0.5)\n",
    "plt.show()"
   ]
  },
  {
   "cell_type": "code",
   "execution_count": 127,
   "metadata": {
    "collapsed": false
   },
   "outputs": [
    {
     "data": {
      "image/png": "[encoded data removed]",
      "text/plain": [
       "<matplotlib.figure.Figure at 0x10bf8f190>"
      ]
     },
     "metadata": {},
     "output_type": "display_data"
    }
   ],
   "source": [
    "from utils import plot_straight_tracks\n",
    "plot_straight_tracks(event, labels)\n",
    "plt.xlim(-0.5, 9.5)\n",
    "plt.ylabel('Y', size=15)\n",
    "plt.xlabel('X', size=15)\n",
    "plt.xticks(size=15)\n",
    "plt.yticks(size=15)\n",
    "plt.show()"
   ]
  },
  {
   "cell_type": "markdown",
   "metadata": {},
   "source": [
    "## Hough Transform\n",
    "\n",
    "The first task is to realize the Linear Hough Transfrom model for the track pattern recognition.\n",
    "\n",
    "Finish the following class below. Run it. Play with it!"
   ]
  },
  {
   "cell_type": "code",
   "execution_count": 110,
   "metadata": {
    "collapsed": true
   },
   "outputs": [],
   "source": [
    "class LinearHoughModel(object):\n",
    "\n",
    "    def __init__(self, k_params=(-2, 2, 0.1), b_params=(-10, 10, 1), min_hits=4):\n",
    "        \"\"\"\n",
    "        This calss is realizarion of the Linear Hough Transform method for the track recognition.\n",
    "        :param k_params: tuple (min, max, step), bins parameters for the k parameter.\n",
    "        :param b_params: tuple (min, max, step), bins parameters for the b parameter.\n",
    "        :param min_hits: int, tracks with number of hits larger then min_hits considered as a track candidate.\n",
    "        :return:\n",
    "        \"\"\"\n",
    "\n",
    "        self.k_params = k_params\n",
    "        self.b_params = b_params\n",
    "        self.min_hits = min_hits\n",
    "\n",
    "        self.labels_ = None\n",
    "\n",
    "    def linear_hough(self, x_hit, y_hit, k_params, b_params):\n",
    "        \"\"\"\n",
    "        This method do Hough Transform just for one point.\n",
    "        :param x_hit: float, x-coordinate of a hit. y = kx + b.\n",
    "        :param y_hit: float, y-coordinate of a hit. y = kx + b.\n",
    "        :param k_params: tuple (min, max, step), bins parameters for the k parameter.\n",
    "        :param b_params: tuple (min, max, step), bins parameters for the b parameter.\n",
    "        :return: numpy.array; numpy.array.\n",
    "        \"\"\"\n",
    "\n",
    "        # y = kx+b -> b = y - kx\n",
    "        \n",
    "        # Change the following code by the correct one. Inputs and outputs are the same.\n",
    "        # k = numpy.random.rand(100)\n",
    "        # b = numpy.random.rand(100)\n",
    "        \n",
    "        n_points = 10. * (k_params[1] - k_params[0]) / (k_params[2])\n",
    "\n",
    "        k = numpy.arange(*k_params)\n",
    "        b = y_hit - k * x_hit\n",
    "\n",
    "        return k, b\n",
    "\n",
    "    def get_hits(self, hists, max_ind):\n",
    "        \"\"\"\n",
    "        This method finds hits that corresponding cell of histogram with max counts.\n",
    "        :param hists: list of histograms for each hit.\n",
    "        :param max_ind: tuple (int, int), index of the cell with max counts.\n",
    "        :return: list of indeces of the hits.\n",
    "        \"\"\"\n",
    "        \n",
    "        # Change the following code by the correct one. Inputs and outputs are the same.\n",
    "        # hits = numpy.random.randint(0, len(hists), 3)\n",
    "\n",
    "        hits = []\n",
    "\n",
    "        for ind, hit_hist in enumerate(hists):\n",
    "\n",
    "            if hit_hist[max_ind] == 1:\n",
    "\n",
    "                hits.append(ind)\n",
    "\n",
    "        return hits\n",
    "\n",
    "\n",
    "    def fit(self, x, y):\n",
    "        \"\"\"\n",
    "        This method runs the Linear Hough Transfrom method.\n",
    "        :param x: numpy.array, shape = [n_hits], x-coordinates of the hits.\n",
    "        :param y: numpy.array, shape = [n_hits], y-coordinates of the hits.\n",
    "        :return:\n",
    "        \"\"\"\n",
    "        \n",
    "        # Finish the function. Inputs and outputs are the same.\n",
    "\n",
    "        n_hits = len(x)\n",
    "        labels = -1. * numpy.ones(n_hits)\n",
    "\n",
    "        track_id = 0\n",
    "\n",
    "        hists = []\n",
    "        n_k = (self.k_params[1] - self.k_params[0]) / (self.k_params[2])\n",
    "        n_b = (self.b_params[1] - self.b_params[0]) / (self.b_params[2])\n",
    "\n",
    "        for hit_id in range(n_hits):\n",
    "\n",
    "            x_hit = x[hit_id]\n",
    "            y_hit = y[hit_id]\n",
    "\n",
    "            k_hit, b_hit = self.linear_hough(x_hit, y_hit, self.k_params, self.b_params)\n",
    "\n",
    "            (hit_hist, xedges, yedges) = numpy.histogram2d(k_hit, b_hit, range=[[self.k_params[0], self.k_params[1]],\n",
    "                                                            [self.b_params[0], self.b_params[1]]],\n",
    "                                                         bins=[n_k, n_b])\n",
    "            hit_hist = (hit_hist > 0) * 1.\n",
    "            hists.append(hit_hist)\n",
    "\n",
    "        hists = numpy.array(hists)\n",
    "        total_hist = hists.sum(axis=0)\n",
    "\n",
    "        while total_hist.max() >= self.min_hits:\n",
    "\n",
    "            total_hist = hists[labels == -1].sum(axis=0)\n",
    "            max_ind = numpy.unravel_index(numpy.argmax(total_hist), total_hist.shape)\n",
    "\n",
    "            hits = self.get_hits(hists, max_ind)\n",
    "\n",
    "            if len(hits) >= self.min_hits:\n",
    "\n",
    "                labels[hits] = track_id\n",
    "                track_id += 1\n",
    "\n",
    "\n",
    "        self.labels_ = labels"
   ]
  },
  {
   "cell_type": "code",
   "execution_count": 119,
   "metadata": {
    "collapsed": false
   },
   "outputs": [],
   "source": [
    "lh = LinearHoughModel(k_params=(-2, 2, 0.1), b_params=(-10, 10, 1), min_hits=4)\n",
    "lh.fit(X, y)\n",
    "labels = lh.labels_"
   ]
  },
  {
   "cell_type": "code",
   "execution_count": 120,
   "metadata": {
    "collapsed": false
   },
   "outputs": [
    {
     "data": {
      "image/png": "[encoded data removed]",
      "text/plain": [
       "<matplotlib.figure.Figure at 0x10bf8f350>"
      ]
     },
     "metadata": {},
     "output_type": "display_data"
    }
   ],
   "source": [
    "from utils import plot_straight_tracks\n",
    "plot_straight_tracks(event, labels)\n",
    "plt.xlim(-0.5, 9.5)\n",
    "plt.ylabel('Y', size=15)\n",
    "plt.xlabel('X', size=15)\n",
    "plt.xticks(size=15)\n",
    "plt.yticks(size=15)\n",
    "plt.show()"
   ]
  },
  {
   "cell_type": "code",
   "execution_count": null,
   "metadata": {
    "collapsed": true
   },
   "outputs": [],
   "source": []
  }
 ],
 "metadata": {
  "kernelspec": {
   "display_name": "Python 2",
   "language": "python",
   "name": "python2"
  },
  "language_info": {
   "codemirror_mode": {
    "name": "ipython",
    "version": 2
   },
   "file_extension": ".py",
   "mimetype": "text/x-python",
   "name": "python",
   "nbconvert_exporter": "python",
   "pygments_lexer": "ipython2",
   "version": "2.7.11"
  }
 },
 "nbformat": 4,
 "nbformat_minor": 0
}
