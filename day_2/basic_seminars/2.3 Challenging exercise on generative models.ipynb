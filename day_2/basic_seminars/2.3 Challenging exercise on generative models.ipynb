{
 "cells": [
  {
   "cell_type": "markdown",
   "metadata": {},
   "source": [
    "# Build a model to separate decays\n",
    "With the tools we've learned it's possible to build a multivariate statistical model for the Kaggle challenge.\n",
    "1. Separate the dataset into a training and test parts. I suggest using public_train_100000.root , but you are free to experiment.\n",
    "2. Fit separate kernel density estimators for signal and background events on the training part. It has quite a few dimensions - you probably should try to find some good combination of features. I suggest you try something from this list: [u'm_jj', u'm_bb', u'm_wbb', u'm_jlv'] (they were obtained using feature importance of random forest)\n",
    "3. For each element in the test set calculate the signal and background probabilitis - use them to get a score whether the event is signal.\n",
    "4. Compute ROC AUC evaluation of your prediction. I suggest using sklearn.metrics.roc_auc_score\n",
    "5. BONUS. Make your model sklearn-compatible. It should be a class inherited from sklearn.base.BaseEstimator and provide .fit and .predict_proba methods."
   ]
  }
 ],
 "metadata": {
  "kernelspec": {
   "display_name": "Python 2",
   "language": "python",
   "name": "python2"
  },
  "language_info": {
   "codemirror_mode": {
    "name": "ipython",
    "version": 2
   },
   "file_extension": ".py",
   "mimetype": "text/x-python",
   "name": "python",
   "nbconvert_exporter": "python",
   "pygments_lexer": "ipython2",
   "version": "2.7.11"
  }
 },
 "nbformat": 4,
 "nbformat_minor": 0
}
