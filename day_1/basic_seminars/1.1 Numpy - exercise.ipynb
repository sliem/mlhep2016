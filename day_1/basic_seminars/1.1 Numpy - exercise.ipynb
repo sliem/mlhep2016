{
 "cells": [
  {
   "cell_type": "markdown",
   "metadata": {
    "slideshow": {
     "slide_type": "slide"
    }
   },
   "source": [
    "# NumPy Exercises\n",
    "due to Petr Romov"
   ]
  },
  {
   "cell_type": "code",
   "execution_count": 1,
   "metadata": {
    "collapsed": true,
    "slideshow": {
     "slide_type": "skip"
    }
   },
   "outputs": [],
   "source": [
    "import numpy as np"
   ]
  },
  {
   "cell_type": "markdown",
   "metadata": {
    "slideshow": {
     "slide_type": "subslide"
    }
   },
   "source": [
    "SELF. Generate a matrix with 1000 rows and 50 columns, elements being drawn from normal distribution $\\mathcal{N}(1, 10)$. Specify random seed to make the result reproducible. Use http://docs.scipy.org/doc/numpy/reference/routines.random.html"
   ]
  },
  {
   "cell_type": "code",
   "execution_count": 57,
   "metadata": {
    "collapsed": false,
    "slideshow": {
     "slide_type": "fragment"
    }
   },
   "outputs": [],
   "source": [
    "np.random.seed(1)\n",
    "sigma = 10\n",
    "mu = 1\n",
    "a = sigma*np.random.randn(1000,50)+mu"
   ]
  },
  {
   "cell_type": "markdown",
   "metadata": {
    "slideshow": {
     "slide_type": "subslide"
    }
   },
   "source": [
    "SELF. Normalize the matrix: subtract from each column its mean and divide by the standard deviation. I suggest np.mean, np.std with axis parameter."
   ]
  },
  {
   "cell_type": "code",
   "execution_count": 58,
   "metadata": {
    "collapsed": false
   },
   "outputs": [
    {
     "name": "stdout",
     "output_type": "stream",
     "text": [
      "[ 1.63541569  0.73525786  1.04773795  0.72033988  1.15138463  0.74848509\n",
      "  1.16593862  1.01639817  0.90760091  1.34472101  0.93169785  0.3163826\n",
      "  0.70117251  0.69139279  0.99524087  1.15113457  1.23365016  1.15718478\n",
      "  0.91678017  0.40631877  0.87633603  0.79656176  0.55744485  1.82326403\n",
      "  1.47065636  0.75238181  1.30392293  0.84200847  1.38419088  0.67932334\n",
      "  1.09717756  1.88106544  1.28934718  0.96066564  1.47383238  0.85131972\n",
      "  1.1763672   0.56854632  1.30621012  1.39181938  1.60952353  1.37145601\n",
      "  0.96861651  1.80645417  0.77647937  0.94776415  0.32605793  0.85334034\n",
      "  1.10871678  0.66915977]\n",
      "[ 10.22692105   9.97634029  10.14496899  10.18549434   9.89265693\n",
      "   9.69957476  10.27382684   9.83716519  10.15554778  10.54286191\n",
      "  10.04645252  10.23130293  10.26734307   9.57633924  10.08167762\n",
      "   9.80427445  10.27898735  10.03674698  10.00334091  10.2583895\n",
      "  10.47239728   9.97644378  10.22510736   9.81771186  10.38669795\n",
      "   9.9046711    9.99120149   9.78888859   9.63685548  10.24180113\n",
      "   9.75805739   9.97831001   9.79268646   9.85815563  10.26756856\n",
      "   9.82583073  10.06846816   9.68709498   9.83269055  10.03734362\n",
      "   9.89802509   9.87599391   9.82099902   9.81431925   9.79559601\n",
      "   9.90032314  10.12844577   9.95354843   9.82651801   9.79467401]\n",
      "[ -4.94049246e-17  -4.60742555e-17   1.51878510e-16   1.59872116e-17\n",
      "   3.10862447e-18  -3.96904731e-17  -4.97935027e-17  -8.21565038e-18\n",
      "   7.96029909e-17  -1.66977543e-16  -1.01252340e-16  -6.43929354e-18\n",
      "   4.29101199e-17   3.06421555e-17  -1.33004718e-16  -6.63358257e-17\n",
      "  -2.71449530e-17   7.24975635e-17  -8.12683254e-17  -5.32907052e-18\n",
      "  -1.09690035e-16   4.52970994e-17   1.07525100e-16  -3.84137167e-17\n",
      "   4.30766534e-17  -1.13020704e-16  -2.24431584e-16   8.67084182e-17\n",
      "   5.17363929e-17   1.49588675e-16  -1.28508315e-17  -2.30260255e-16\n",
      "  -1.25732758e-17   8.21565038e-17   1.68087766e-16   1.90680804e-16\n",
      "  -7.44959650e-17   7.97972799e-17   1.30340183e-16  -2.22044605e-19\n",
      "   1.65367720e-16  -4.38815650e-17  -1.83839055e-16   2.68896017e-16\n",
      "   1.00142117e-16   1.31672451e-16   5.36029554e-17   1.26454403e-16\n",
      "  -4.01900735e-17   1.63202785e-17]\n",
      "[ 1.  1.  1.  1.  1.  1.  1.  1.  1.  1.  1.  1.  1.  1.  1.  1.  1.  1.\n",
      "  1.  1.  1.  1.  1.  1.  1.  1.  1.  1.  1.  1.  1.  1.  1.  1.  1.  1.\n",
      "  1.  1.  1.  1.  1.  1.  1.  1.  1.  1.  1.  1.  1.  1.]\n"
     ]
    }
   ],
   "source": [
    "print(a.mean(axis=0))\n",
    "print(a.std(axis=0))\n",
    "\n",
    "from sklearn import preprocessing\n",
    "a_scaled = preprocessing.scale(a)\n",
    "print(a_scaled.mean(axis=0))\n",
    "print(a_scaled.std(axis=0))"
   ]
  },
  {
   "cell_type": "markdown",
   "metadata": {
    "slideshow": {
     "slide_type": "subslide"
    }
   },
   "source": [
    "Print for the following matrix row numbers for those rows, where element sum is greater than 10. I suggest np.sum and np.nonzero"
   ]
  },
  {
   "cell_type": "code",
   "execution_count": 31,
   "metadata": {
    "collapsed": false
   },
   "outputs": [
    {
     "data": {
      "text/plain": [
       "array([[1, 9, 3],\n",
       "       [9, 9, 9],\n",
       "       [4, 7, 1]])"
      ]
     },
     "execution_count": 31,
     "metadata": {},
     "output_type": "execute_result"
    }
   ],
   "source": [
    "Z = np.array([[4, 5, 0],\n",
    "              [1, 9, 3],\n",
    "              [5, 1, 1],\n",
    "              [3, 3, 3],\n",
    "              [9, 9, 9],\n",
    "              [4, 7, 1]])\n",
    "\n",
    "Z[Z.sum(axis=1) > 10]"
   ]
  },
  {
   "cell_type": "markdown",
   "metadata": {},
   "source": [
    "Write a python function to get N largest values from a 1D or 2D array. It should accept as a mandatory parameter N - the number of values to return and optional axis. If axis is not specified, use the flattened array, if specified - return a matrix with N maximum values for each row or column (depends on the axis). BONUS - allow arrays of arbitary dimensions, axis should work as in https://docs.scipy.org/doc/numpy/reference/generated/numpy.amax.html#numpy.amax"
   ]
  },
  {
   "cell_type": "code",
   "execution_count": 85,
   "metadata": {
    "collapsed": false
   },
   "outputs": [
    {
     "name": "stdout",
     "output_type": "stream",
     "text": [
      "[[4 5 0]\n",
      " [1 9 3]\n",
      " [5 1 1]\n",
      " [3 3 3]\n",
      " [9 9 9]\n",
      " [4 7 1]]\n"
     ]
    },
    {
     "data": {
      "text/plain": [
       "array([[1, 1, 0],\n",
       "       [3, 3, 1],\n",
       "       [4, 5, 1],\n",
       "       [4, 7, 3],\n",
       "       [5, 9, 3],\n",
       "       [9, 9, 9]])"
      ]
     },
     "execution_count": 85,
     "metadata": {},
     "output_type": "execute_result"
    }
   ],
   "source": [
    "def nmax(a, n, axis=None):\n",
    "    if axis is 'row':\n",
    "        return np.sort(a, axis=1)[:,-n:]\n",
    "    if axis is 'col':\n",
    "        return np.sort(a, axis=0)[-n:,:]\n",
    "    \n",
    "    return np.sort(a.ravel())[-n:]\n",
    "a = np.random.randn(100)\n",
    "print(Z)\n",
    "nmax(Z,6,axis='col')\n"
   ]
  },
  {
   "cell_type": "code",
   "execution_count": null,
   "metadata": {
    "collapsed": true
   },
   "outputs": [],
   "source": []
  }
 ],
 "metadata": {
  "celltoolbar": "Slideshow",
  "kernelspec": {
   "display_name": "Python 2",
   "language": "python",
   "name": "python2"
  },
  "language_info": {
   "codemirror_mode": {
    "name": "ipython",
    "version": 2
   },
   "file_extension": ".py",
   "mimetype": "text/x-python",
   "name": "python",
   "nbconvert_exporter": "python",
   "pygments_lexer": "ipython2",
   "version": "2.7.11"
  }
 },
 "nbformat": 4,
 "nbformat_minor": 0
}
