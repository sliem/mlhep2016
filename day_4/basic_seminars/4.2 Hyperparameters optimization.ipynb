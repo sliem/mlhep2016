{
 "cells": [
  {
   "cell_type": "markdown",
   "metadata": {},
   "source": [
    "# Hyperparameters optimization\n",
    "Your good old optimization problem on cross-validation score (it has no gradient and is not guaranteed to be convex).\n",
    "1. Each cross-validation is *very* expensive\n",
    "2. The more information you use, the better.\n",
    "3. Some points take longer than the others to compute.\n",
    "4. Many approaches.\n",
    "\n",
    "If done hard enough in a big enough parameter space, will overfit."
   ]
  },
  {
   "cell_type": "code",
   "execution_count": 54,
   "metadata": {
    "collapsed": false
   },
   "outputs": [
    {
     "name": "stdout",
     "output_type": "stream",
     "text": [
      "Obtaining bayes-opt from git+git://github.com/fmfn/BayesianOptimization#egg=bayes_opt\n",
      "  Updating ./src/bayes-opt clone\n",
      "\u001b[33m  Running setup.py (path:/notebooks/day_4/basic_seminars/src/bayes-opt/setup.py) egg_info for package bayes-opt produced metadata for project name bayesian-optimization. Fix your #egg=bayes-opt fragments.\u001b[0m\n",
      "Requirement already satisfied (use --upgrade to upgrade): numpy>=1.9.0 in /root/miniconda/envs/rep_py2/lib/python2.7/site-packages (from bayesian-optimization)\n",
      "Requirement already satisfied (use --upgrade to upgrade): scipy>=0.14.0 in /root/miniconda/envs/rep_py2/lib/python2.7/site-packages (from bayesian-optimization)\n",
      "Requirement already satisfied (use --upgrade to upgrade): scikit-learn>=0.16.1 in /root/miniconda/envs/rep_py2/lib/python2.7/site-packages (from bayesian-optimization)\n",
      "Installing collected packages: bayesian-optimization\n",
      "  Running setup.py develop for bayesian-optimization\n",
      "Successfully installed bayesian-optimization-0.1.0\n",
      "\u001b[33mYou are using pip version 8.1.1, however version 8.1.2 is available.\n",
      "You should consider upgrading via the 'pip install --upgrade pip' command.\u001b[0m\n"
     ]
    }
   ],
   "source": [
    "! pip install -e git+git://github.com/fmfn/BayesianOptimization#egg=bayes_opt"
   ]
  },
  {
   "cell_type": "code",
   "execution_count": 55,
   "metadata": {
    "collapsed": true
   },
   "outputs": [],
   "source": [
    "import numpy as np\n",
    "import pandas as pd\n",
    "import matplotlib.pyplot as plt\n",
    "%matplotlib inline"
   ]
  },
  {
   "cell_type": "code",
   "execution_count": 57,
   "metadata": {
    "collapsed": false
   },
   "outputs": [
    {
     "data": {
      "text/plain": [
       "<matplotlib.collections.PathCollection at 0x7f453772b790>"
      ]
     },
     "execution_count": 57,
     "metadata": {},
     "output_type": "execute_result"
    },
    {
     "data": {
      "image/png": "[encoded data removed]",
      "text/plain": [
       "<matplotlib.figure.Figure at 0x7f452d2b5450>"
      ]
     },
     "metadata": {},
     "output_type": "display_data"
    }
   ],
   "source": [
    "np.random.seed(42)\n",
    "x_space = np.random.uniform(0, 1, size=60)\n",
    "y0 = x_space + 0.2 + np.random.normal(size=len(x_space), scale=0.1)\n",
    "y1 = x_space + np.random.normal(size=len(x_space), scale=0.1)\n",
    "shuffle = np.random.permutation(2*len(x_space))\n",
    "line_features = np.concatenate((np.concatenate((x_space, x_space))[:, np.newaxis],\n",
    "                          np.concatenate((y0, y1))[:, np.newaxis]), axis=1)[shuffle]\n",
    "line_labels = np.concatenate((np.zeros(len(y0)), np.ones(len(y1))))[shuffle]\n",
    "fig, ax = plt.subplots()\n",
    "ax.scatter(line_features[:, 0], line_features[:, 1], c=line_labels, edgecolors='none', s=100)"
   ]
  },
  {
   "cell_type": "markdown",
   "metadata": {},
   "source": [
    "## Exhaustive GridSearch\n",
    "Tries all parameters combinations. Is expensive."
   ]
  },
  {
   "cell_type": "code",
   "execution_count": 58,
   "metadata": {
    "collapsed": false
   },
   "outputs": [
    {
     "data": {
      "text/plain": [
       "GridSearchCV(cv=4, error_score='raise',\n",
       "       estimator=RandomForestClassifier(bootstrap=True, class_weight=None, criterion='gini',\n",
       "            max_depth=None, max_features='auto', max_leaf_nodes=None,\n",
       "            min_samples_leaf=1, min_samples_split=2,\n",
       "            min_weight_fraction_leaf=0.0, n_estimators=10, n_jobs=1,\n",
       "            oob_score=False, random_state=2, verbose=0, warm_start=False),\n",
       "       fit_params={}, iid=True, n_jobs=4,\n",
       "       param_grid={'min_samples_split': (2, 3, 4, 5, 10), 'n_estimators': (1, 10, 50, 100), 'criterion': ('gini', 'entropy'), 'max_depth': (1, 5, None)},\n",
       "       pre_dispatch='2*n_jobs', refit=True, scoring='roc_auc', verbose=0)"
      ]
     },
     "execution_count": 58,
     "metadata": {},
     "output_type": "execute_result"
    }
   ],
   "source": [
    "from sklearn.grid_search import GridSearchCV\n",
    "from sklearn.ensemble import RandomForestClassifier\n",
    "grid_search_cv = GridSearchCV(RandomForestClassifier(random_state=2), {\n",
    "        'criterion': ('gini', 'entropy'),\n",
    "        'max_depth': (1, 5, None),\n",
    "        'min_samples_split': (2, 3, 4, 5, 10),\n",
    "        'n_estimators': (1, 10, 50, 100)}, scoring='roc_auc', n_jobs=4, cv=4)\n",
    "grid_search_cv.fit(line_features, line_labels)"
   ]
  },
  {
   "cell_type": "markdown",
   "metadata": {},
   "source": [
    "Let's see how the score was improved compared to the default parameters."
   ]
  },
  {
   "cell_type": "code",
   "execution_count": 60,
   "metadata": {
    "collapsed": false
   },
   "outputs": [
    {
     "name": "stdout",
     "output_type": "stream",
     "text": [
      "Evaluated CV score 120 times.\n",
      "Best score: 0.728889.\n",
      "Score with default parametes: 0.629167\n"
     ]
    },
    {
     "data": {
      "text/plain": [
       "RandomForestClassifier(bootstrap=True, class_weight=None, criterion='gini',\n",
       "            max_depth=None, max_features='auto', max_leaf_nodes=None,\n",
       "            min_samples_leaf=1, min_samples_split=5,\n",
       "            min_weight_fraction_leaf=0.0, n_estimators=50, n_jobs=1,\n",
       "            oob_score=False, random_state=2, verbose=0, warm_start=False)"
      ]
     },
     "execution_count": 60,
     "metadata": {},
     "output_type": "execute_result"
    }
   ],
   "source": [
    "from sklearn.cross_validation import cross_val_score\n",
    "print(\"Evaluated CV score %d times.\" % len(grid_search_cv.grid_scores_))\n",
    "print(\"Best score: %f.\" % grid_search_cv.best_score_)\n",
    "print(\"Score with default parametes: %f\" % \n",
    "      cross_val_score(RandomForestClassifier(random_state=2, n_jobs=4),\n",
    "                      line_features, line_labels, scoring='roc_auc').mean())\n",
    "grid_search_cv.best_estimator_"
   ]
  },
  {
   "cell_type": "markdown",
   "metadata": {},
   "source": [
    "Here are the scores obtained during the search. Note inefficiency - many times we calculated the points that yielded no improvement."
   ]
  },
  {
   "cell_type": "code",
   "execution_count": 61,
   "metadata": {
    "collapsed": false
   },
   "outputs": [
    {
     "data": {
      "image/png": "[encoded data removed]",
      "text/plain": [
       "<matplotlib.figure.Figure at 0x7f4506e11750>"
      ]
     },
     "metadata": {},
     "output_type": "display_data"
    }
   ],
   "source": [
    "grid_values = map(lambda score_list: score_list.mean_validation_score, grid_search_cv.grid_scores_)\n",
    "_=plt.hist(grid_values, bins=35)"
   ]
  },
  {
   "cell_type": "markdown",
   "metadata": {},
   "source": [
    "## Regressor-based search\n",
    "1. Fits a regressor on all evaluated points\n",
    "2. Uses an optimization algorithm to find the extremum of the regressor. Please note that REP operates on the grid points.\n",
    "3. Evaluates cross-validation in the regressor extremum\n",
    "4. GoTo 1"
   ]
  },
  {
   "cell_type": "code",
   "execution_count": 62,
   "metadata": {
    "collapsed": false
   },
   "outputs": [],
   "source": [
    "from rep.metaml import RegressionParameterOptimizer, GridOptimalSearchCV, FoldingScorer\n",
    "from sklearn.ensemble import RandomForestRegressor\n",
    "from sklearn.metrics import roc_auc_score\n",
    "from rep.report.metrics import RocAuc\n",
    "\n",
    "scorer = FoldingScorer(RocAuc(), folds=4, fold_checks=4)\n",
    "grid = {'criterion': ('gini', 'entropy'),\n",
    "        'max_depth': (1, 5, None),\n",
    "        'min_samples_split': (2, 3, 4, 5, 10),\n",
    "        'n_estimators': (1, 10, 50, 100)}\n",
    "generator = RegressionParameterOptimizer(grid, n_evaluations=70,\n",
    "            regressor=RandomForestRegressor(), n_attempts=10)"
   ]
  },
  {
   "cell_type": "code",
   "execution_count": 63,
   "metadata": {
    "collapsed": false
   },
   "outputs": [
    {
     "name": "stdout",
     "output_type": "stream",
     "text": [
      "Performing grid search in 4 threads\n",
      "4 evaluations done\n",
      "8 evaluations done\n",
      "12 evaluations done\n",
      "16 evaluations done\n",
      "20 evaluations done\n",
      "24 evaluations done\n",
      "28 evaluations done\n",
      "32 evaluations done\n",
      "36 evaluations done\n",
      "40 evaluations done\n",
      "44 evaluations done\n",
      "48 evaluations done\n",
      "52 evaluations done\n",
      "56 evaluations done\n",
      "60 evaluations done\n",
      "64 evaluations done\n",
      "68 evaluations done\n",
      "72 evaluations done\n"
     ]
    },
    {
     "data": {
      "text/plain": [
       "<rep.metaml.gridsearch.GridOptimalSearchCV at 0x7f45376e9490>"
      ]
     },
     "execution_count": 63,
     "metadata": {},
     "output_type": "execute_result"
    }
   ],
   "source": [
    "grid_finder = GridOptimalSearchCV(RandomForestClassifier(random_state=2),\n",
    "                                  generator, scorer, parallel_profile='threads-4')\n",
    "grid_finder.fit(pd.DataFrame(line_features), line_labels)"
   ]
  },
  {
   "cell_type": "code",
   "execution_count": 68,
   "metadata": {
    "collapsed": false
   },
   "outputs": [
    {
     "data": {
      "text/plain": [
       "0.72888888888888892"
      ]
     },
     "execution_count": 68,
     "metadata": {},
     "output_type": "execute_result"
    }
   ],
   "source": [
    "grid_finder.params_generator.best_score_"
   ]
  },
  {
   "cell_type": "markdown",
   "metadata": {},
   "source": [
    "Found the same point in 70 iterations instead of 120."
   ]
  },
  {
   "cell_type": "markdown",
   "metadata": {},
   "source": [
    "## Gaussian process\n",
    "Fancy regressor - it can handle uncertainty."
   ]
  },
  {
   "cell_type": "markdown",
   "metadata": {
    "collapsed": true
   },
   "source": [
    "A Gaussian process optimizer not stuck to the grid.\n",
    "https://github.com/fmfn/BayesianOptimization/blob/master/examples/sklearn_example.py"
   ]
  },
  {
   "cell_type": "code",
   "execution_count": 70,
   "metadata": {
    "collapsed": false
   },
   "outputs": [
    {
     "name": "stdout",
     "output_type": "stream",
     "text": [
      "\u001b[31mInitialization\u001b[0m\n",
      "\u001b[94m------------------------------------------------------------------------------------------------\u001b[0m\n",
      " Step |   Time |      Value |   criterion |   max_depth |   min_samples_split |   n_estimators | \n",
      "    1 | 00m00s | \u001b[35m   0.67944\u001b[0m | \u001b[32m     0.1648\u001b[0m | \u001b[32m   774.0520\u001b[0m | \u001b[32m            10.5775\u001b[0m | \u001b[32m       70.8942\u001b[0m | \n",
      "    2 | 00m00s | \u001b[35m   0.70444\u001b[0m | \u001b[32m     0.2047\u001b[0m | \u001b[32m   880.7802\u001b[0m | \u001b[32m             7.8960\u001b[0m | \u001b[32m       51.9602\u001b[0m | \n",
      "    3 | 00m00s |    0.67056 |     -0.6124 |    261.8663 |              6.1812 |        19.2689 | \n",
      "    4 | 00m00s |    0.65833 |     -0.6068 |     96.0016 |              3.3695 |        13.3221 | \n",
      "    5 | 00m00s |    0.63278 |      0.9791 |    137.7826 |              6.6403 |         6.9767 | \n",
      "    6 | 00m00s |    0.58611 |     -0.5134 |    793.0107 |              3.4197 |         2.7715 | \n",
      "    7 | 00m00s | \u001b[35m   0.72111\u001b[0m | \u001b[32m     0.6764\u001b[0m | \u001b[32m   436.3911\u001b[0m | \u001b[32m             5.5861\u001b[0m | \u001b[32m       88.8117\u001b[0m | \n",
      "    8 | 00m00s |    0.68778 |     -0.0594 |    132.7827 |             10.4838 |        81.9086 | \n",
      "    9 | 00m00s | \u001b[35m   0.73000\u001b[0m | \u001b[32m    -0.1300\u001b[0m | \u001b[32m   340.9479\u001b[0m | \u001b[32m             5.0778\u001b[0m | \u001b[32m       57.7821\u001b[0m | \n",
      "   10 | 00m00s |    0.71222 |     -0.4101 |    514.7212 |              3.3751 |       100.8723 | \n",
      "\u001b[31mBayesian Optimization\u001b[0m\n",
      "\u001b[94m------------------------------------------------------------------------------------------------\u001b[0m\n",
      " Step |   Time |      Value |   criterion |   max_depth |   min_samples_split |   n_estimators | \n",
      "   11 | 00m19s |    0.71222 |      0.0729 |    417.3724 |              5.2013 |        75.1302 | \n",
      "   12 | 00m09s |    0.71444 |     -0.3578 |    315.6648 |              4.6469 |        68.9624 | \n",
      "   13 | 00m12s |    0.72778 |     -0.0337 |    239.0061 |              5.8927 |        59.8228 | \n",
      "   14 | 00m14s |    0.68611 |      0.0207 |    247.6821 |              4.5551 |        59.4078 | \n",
      "   15 | 00m09s |    0.72778 |     -0.1835 |    362.3133 |              5.8465 |        59.8799 | \n",
      "   16 | 00m12s |    0.72222 |     -0.1705 |    305.9064 |              5.4840 |        62.3828 | \n",
      "   17 | 00m10s |    0.71444 |      0.0166 |    356.3213 |              6.0120 |        51.0557 | \n",
      "   18 | 00m09s |    0.71556 |     -0.2266 |    447.7373 |              4.9360 |        58.0225 | \n",
      "   19 | 00m09s | \u001b[35m   0.73111\u001b[0m | \u001b[32m    -0.0053\u001b[0m | \u001b[32m   223.0635\u001b[0m | \u001b[32m             6.8854\u001b[0m | \u001b[32m       63.3094\u001b[0m | \n",
      "   20 | 00m10s |    0.72444 |     -0.0994 |    219.7422 |              6.6465 |        53.5355 | \n",
      "   21 | 00m08s |    0.71444 |      0.0057 |    271.9503 |              6.5091 |        63.2077 | \n",
      "   22 | 00m07s |    0.72667 |     -0.0418 |    180.4091 |              6.4793 |        65.5259 | \n",
      "   23 | 00m08s |    0.72778 |     -0.2468 |    359.5096 |              5.2186 |        52.1394 | \n",
      "   24 | 00m09s |    0.71889 |      0.0799 |    197.6181 |              6.6733 |        58.3158 | \n",
      "   25 | 00m08s |    0.73000 |     -0.1039 |    219.0462 |              6.4959 |        64.1114 | \n",
      "   26 | 00m09s |    0.71278 |     -0.0668 |    196.6080 |              7.5633 |        66.9731 | \n",
      "   27 | 00m11s |    0.72333 |     -0.1823 |    376.5791 |              5.1119 |        61.5068 | \n",
      "   28 | 00m07s |    0.72778 |     -0.1475 |    335.9118 |              5.4985 |        52.1506 | \n",
      "   29 | 00m09s |    0.71222 |      0.4497 |    477.2318 |              5.3828 |        82.5594 | \n",
      "   30 | 00m09s |    0.72556 |     -0.0382 |    214.6508 |              6.5125 |        61.8314 | \n",
      "   31 | 00m10s |    0.73111 |     -0.1149 |    190.2314 |              6.9006 |        63.8885 | \n",
      "   32 | 00m09s |    0.72778 |     -0.2274 |    223.7222 |              6.1409 |        58.7534 | \n",
      "   33 | 00m10s |    0.72667 |     -0.2756 |    310.6047 |              6.6312 |        62.4922 | \n",
      "   34 | 00m06s |    0.73111 |     -0.0509 |    210.7316 |              6.9570 |        63.6417 | \n",
      "   35 | 00m07s |    0.72667 |     -0.2345 |    202.8067 |              6.6047 |        66.0152 | \n",
      "   36 | 00m08s |    0.72444 |     -0.2851 |    359.0522 |              6.2140 |        53.4288 | \n",
      "   37 | 00m09s |    0.71111 |      0.0725 |    189.1970 |              7.0350 |        68.8423 | \n",
      "   38 | 00m07s |    0.71278 |     -0.0510 |    297.5608 |              7.2544 |        57.6551 | \n",
      "   39 | 00m06s |    0.72556 |     -0.0575 |    388.3818 |              5.2023 |        54.1344 | \n",
      "   40 | 00m07s |    0.73000 |     -0.1096 |    162.1231 |              5.8678 |        57.3868 | \n",
      "   41 | 00m05s |    0.72778 |     -0.1460 |    154.7971 |              6.4557 |        60.8862 | \n",
      "   42 | 00m06s |    0.72667 |     -0.3623 |    395.3890 |              6.1149 |        65.0508 | \n",
      "   43 | 00m08s |    0.72556 |     -0.1029 |    224.1456 |              5.7513 |        54.0913 | \n",
      "   44 | 00m07s |    0.72389 |     -0.1190 |    184.5750 |              5.8937 |        63.4545 | \n",
      "   45 | 00m07s |    0.72778 |     -0.3871 |    325.0102 |              5.9052 |        59.9919 | \n",
      "   46 | 00m08s |    0.72778 |     -0.0418 |    100.9699 |              5.9934 |        52.4581 | \n",
      "   47 | 00m08s |    0.72556 |     -0.2897 |    336.6220 |              6.1243 |        61.9070 | \n",
      "   48 | 00m07s |    0.73000 |     -0.4660 |    404.0549 |              5.5916 |        58.6247 | \n",
      "   49 | 00m06s |    0.72667 |     -0.5213 |    385.5088 |              6.1956 |        59.6766 | \n",
      "   50 | 00m06s |    0.72000 |     -0.5370 |    369.1203 |              5.5876 |        66.5933 | \n",
      "   51 | 00m05s |    0.73000 |     -0.3792 |    405.7425 |              5.8459 |        57.4504 | \n",
      "   52 | 00m04s | \u001b[35m   0.73222\u001b[0m | \u001b[32m    -0.1919\u001b[0m | \u001b[32m   120.2059\u001b[0m | \u001b[32m             6.1091\u001b[0m | \u001b[32m       50.6291\u001b[0m | \n",
      "   53 | 00m04s |    0.72556 |     -0.3087 |    180.8048 |              6.6698 |        52.3258 | \n",
      "   54 | 00m05s |    0.72778 |     -0.4869 |    328.6399 |              5.4753 |        52.9322 | \n",
      "   55 | 00m05s |    0.72667 |     -0.1947 |     76.5641 |              5.8063 |        53.7254 | \n",
      "   56 | 00m05s |    0.73222 |     -0.1579 |     90.4701 |              6.5590 |        50.3951 | \n",
      "   57 | 00m05s |    0.72556 |     -0.1603 |     79.9094 |              6.3163 |        44.5167 | \n",
      "   58 | 00m07s |    0.72556 |     -0.1452 |    104.7519 |              6.2744 |        52.2975 | \n",
      "   59 | 00m05s |    0.72556 |     -0.1824 |     92.9292 |              6.9506 |        49.7162 | \n",
      "   60 | 00m05s |    0.72778 |     -0.2896 |    145.6475 |              5.9873 |        49.3036 | \n",
      "-----------------------------------------------------\n",
      "Final Results\n",
      "RFC: 0.732222\n"
     ]
    }
   ],
   "source": [
    "from __future__ import print_function\n",
    "from __future__ import division\n",
    "\n",
    "from bayes_opt import BayesianOptimization\n",
    "def rfccv(n_estimators, min_samples_split, max_depth, criterion):\n",
    "    return cross_val_score(RandomForestClassifier(\n",
    "            n_estimators=int(n_estimators),\n",
    "            min_samples_split=int(min_samples_split),\n",
    "            max_depth=int(max_depth),\n",
    "            criterion=('gini' if criterion <= 0 else 'entropy'),\n",
    "            random_state=2),\n",
    "                           line_features, line_labels, scoring=\"roc_auc\",\n",
    "                           cv=4, n_jobs=4).mean()\n",
    "\n",
    "rfcBO = BayesianOptimization(rfccv, {'n_estimators': (1, 101),\n",
    "                                     'min_samples_split': (2, 11),\n",
    "                                     'max_depth': (1, 1000),\n",
    "                                     'criterion': (-1, 1)})\n",
    "rfcBO.maximize(init_points=10, n_iter=50)\n",
    "print('-'*53)\n",
    "print('Final Results')\n",
    "print('RFC: %f' % rfcBO.res['max']['max_val'])"
   ]
  },
  {
   "cell_type": "markdown",
   "metadata": {},
   "source": [
    "Better result in 60 instead of 120 iterations. But please note the need to evaluate the Gaussian process which takes some time independently of the CV complexity and is the determining factor for the real speed on this toy problem."
   ]
  }
 ],
 "metadata": {
  "kernelspec": {
   "display_name": "Python 2",
   "language": "python",
   "name": "python2"
  },
  "language_info": {
   "codemirror_mode": {
    "name": "ipython",
    "version": 2
   },
   "file_extension": ".py",
   "mimetype": "text/x-python",
   "name": "python",
   "nbconvert_exporter": "python",
   "pygments_lexer": "ipython2",
   "version": "2.7.11"
  }
 },
 "nbformat": 4,
 "nbformat_minor": 0
}
